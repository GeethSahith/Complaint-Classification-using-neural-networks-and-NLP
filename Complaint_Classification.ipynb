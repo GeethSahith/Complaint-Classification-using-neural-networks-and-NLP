{
 "cells": [
  {
   "cell_type": "code",
   "execution_count": null,
   "id": "27acea7a",
   "metadata": {},
   "outputs": [],
   "source": [
    "# imported all the required libraries\n",
    "import os\n",
    "import numpy as np\n",
    "import pandas as pd\n",
    "from sklearn.preprocessing import StandardScaler, LabelEncoder\n",
    "from sklearn.model_selection import train_test_split\n",
    "from sklearn.metrics import accuracy_score, classification_report, confusion_matrix\n",
    "import torch \n",
    "import torch.nn as nn\n",
    "import torch.nn.functional as F\n",
    "import random\n",
    "import re\n",
    "import nltk\n",
    "from nltk.corpus import stopwords\n",
    "from nltk import WordNetLemmatizer\n",
    "from nltk.tokenize import word_tokenize\n",
    "from gensim.models import Word2Vec\n",
    "from string import punctuation\n",
    "from torch.utils.data import Dataset, DataLoader\n",
    "from sklearn.utils.class_weight import compute_class_weight\n",
    "import matplotlib.pyplot as plt\n",
    "import pickle"
   ]
  },
  {
   "cell_type": "markdown",
   "id": "2978ab2b",
   "metadata": {},
   "source": [
    "#### Data Loading"
   ]
  },
  {
   "cell_type": "code",
   "execution_count": 2,
   "id": "8a053ef9",
   "metadata": {},
   "outputs": [
    {
     "data": {
      "text/html": [
       "<div>\n",
       "<style scoped>\n",
       "    .dataframe tbody tr th:only-of-type {\n",
       "        vertical-align: middle;\n",
       "    }\n",
       "\n",
       "    .dataframe tbody tr th {\n",
       "        vertical-align: top;\n",
       "    }\n",
       "\n",
       "    .dataframe thead th {\n",
       "        text-align: right;\n",
       "    }\n",
       "</style>\n",
       "<table border=\"1\" class=\"dataframe\">\n",
       "  <thead>\n",
       "    <tr style=\"text-align: right;\">\n",
       "      <th></th>\n",
       "      <th>Complaint Text</th>\n",
       "      <th>Category</th>\n",
       "    </tr>\n",
       "  </thead>\n",
       "  <tbody>\n",
       "    <tr>\n",
       "      <th>0</th>\n",
       "      <td>Support team ignored my issue.</td>\n",
       "      <td>Service Quality Issue</td>\n",
       "    </tr>\n",
       "    <tr>\n",
       "      <th>1</th>\n",
       "      <td>Wrong address printed.</td>\n",
       "      <td>Booking Issue</td>\n",
       "    </tr>\n",
       "    <tr>\n",
       "      <th>2</th>\n",
       "      <td>Delivery attempt was not made.</td>\n",
       "      <td>Failed Delivery</td>\n",
       "    </tr>\n",
       "    <tr>\n",
       "      <th>3</th>\n",
       "      <td>App crashes during booking.</td>\n",
       "      <td>Booking Issue</td>\n",
       "    </tr>\n",
       "    <tr>\n",
       "      <th>4</th>\n",
       "      <td>Repeated failed delivery attempts without cont...</td>\n",
       "      <td>Failed Delivery</td>\n",
       "    </tr>\n",
       "    <tr>\n",
       "      <th>5</th>\n",
       "      <td>Support promised a call back that never came.</td>\n",
       "      <td>Customer Service</td>\n",
       "    </tr>\n",
       "    <tr>\n",
       "      <th>6</th>\n",
       "      <td>Took more than 10 days to deliver.</td>\n",
       "      <td>Delivery Delay</td>\n",
       "    </tr>\n",
       "    <tr>\n",
       "      <th>7</th>\n",
       "      <td>Support promised a call back that never came.</td>\n",
       "      <td>Customer Service</td>\n",
       "    </tr>\n",
       "    <tr>\n",
       "      <th>8</th>\n",
       "      <td>Electronics arrived damaged.</td>\n",
       "      <td>Damaged Parcel</td>\n",
       "    </tr>\n",
       "    <tr>\n",
       "      <th>9</th>\n",
       "      <td>The shipment was held at the local office for ...</td>\n",
       "      <td>Delivery Delay</td>\n",
       "    </tr>\n",
       "  </tbody>\n",
       "</table>\n",
       "</div>"
      ],
      "text/plain": [
       "                                      Complaint Text               Category\n",
       "0                     Support team ignored my issue.  Service Quality Issue\n",
       "1                             Wrong address printed.          Booking Issue\n",
       "2                     Delivery attempt was not made.        Failed Delivery\n",
       "3                        App crashes during booking.          Booking Issue\n",
       "4  Repeated failed delivery attempts without cont...        Failed Delivery\n",
       "5      Support promised a call back that never came.       Customer Service\n",
       "6                 Took more than 10 days to deliver.         Delivery Delay\n",
       "7      Support promised a call back that never came.       Customer Service\n",
       "8                       Electronics arrived damaged.         Damaged Parcel\n",
       "9  The shipment was held at the local office for ...         Delivery Delay"
      ]
     },
     "execution_count": 2,
     "metadata": {},
     "output_type": "execute_result"
    }
   ],
   "source": [
    "# This file contains the DTDC courier customer complaints \n",
    "data = pd.read_excel('DTDC_Complaints_Dataset.xlsx')\n",
    "data.head(10)"
   ]
  },
  {
   "cell_type": "code",
   "execution_count": 3,
   "id": "48f39d70",
   "metadata": {},
   "outputs": [
    {
     "name": "stdout",
     "output_type": "stream",
     "text": [
      "<class 'pandas.core.frame.DataFrame'>\n",
      "RangeIndex: 3500 entries, 0 to 3499\n",
      "Data columns (total 2 columns):\n",
      " #   Column          Non-Null Count  Dtype \n",
      "---  ------          --------------  ----- \n",
      " 0   Complaint Text  3500 non-null   object\n",
      " 1   Category        3500 non-null   object\n",
      "dtypes: object(2)\n",
      "memory usage: 54.8+ KB\n"
     ]
    }
   ],
   "source": [
    "data.info()"
   ]
  },
  {
   "cell_type": "code",
   "execution_count": null,
   "id": "65f77426",
   "metadata": {},
   "outputs": [
    {
     "data": {
      "text/plain": [
       "Category\n",
       "Service Quality Issue    381\n",
       "Tracking Issue           368\n",
       "Booking Issue            351\n",
       "Customer Service         351\n",
       "Delivery Delay           351\n",
       "Failed Delivery          350\n",
       "Overcharging             349\n",
       "Damaged Parcel           333\n",
       "Wrong Delivery           333\n",
       "Misplaced Parcel         333\n",
       "Name: count, dtype: int64"
      ]
     },
     "execution_count": 4,
     "metadata": {},
     "output_type": "execute_result"
    }
   ],
   "source": [
    "data['Category'].value_counts() # here all the classes are balanced."
   ]
  },
  {
   "cell_type": "code",
   "execution_count": 5,
   "id": "90780e0b",
   "metadata": {},
   "outputs": [
    {
     "data": {
      "text/plain": [
       "350.0"
      ]
     },
     "execution_count": 5,
     "metadata": {},
     "output_type": "execute_result"
    }
   ],
   "source": [
    "data['Category'].value_counts().to_numpy().mean()"
   ]
  },
  {
   "cell_type": "markdown",
   "id": "43913372",
   "metadata": {},
   "source": [
    "#### Text Processing"
   ]
  },
  {
   "cell_type": "markdown",
   "id": "a2480a4a",
   "metadata": {},
   "source": [
    "The text processing steps I took are \n",
    "1. Removing punctuations from the text.\n",
    "2. Tokenizing the sentences into words.\n",
    "3. Removing stopwords.\n",
    "4. Performing Lemmatization"
   ]
  },
  {
   "cell_type": "code",
   "execution_count": 6,
   "id": "026bafa4",
   "metadata": {},
   "outputs": [],
   "source": [
    "def data_preprocessing(text):\n",
    "    text = \"\".join([char for char in text if char not in punctuation])\n",
    "    text = word_tokenize(text.lower())\n",
    "    text = [word for word in text if word not in stopwords.words('english')]\n",
    "    text = [WordNetLemmatizer().lemmatize(word) for word in text]\n",
    "    return text"
   ]
  },
  {
   "cell_type": "code",
   "execution_count": null,
   "id": "720e75b8",
   "metadata": {},
   "outputs": [],
   "source": [
    "# Took the column in which all the data was cleaned and tokenized\n",
    "data['Cleaned_Complaint_text'] = data['Complaint Text'].apply(lambda x : data_preprocessing(x))"
   ]
  },
  {
   "cell_type": "code",
   "execution_count": null,
   "id": "b463ab9c",
   "metadata": {},
   "outputs": [],
   "source": [
    "# Extracted all unique words from the complaint sentences\n",
    "sentences = data['Cleaned_Complaint_text']\n",
    "vocabulary = []\n",
    "for sentence in sentences:\n",
    "    vocabulary.extend(sentence)\n",
    "vocabulary = list(set(vocabulary))"
   ]
  },
  {
   "cell_type": "code",
   "execution_count": null,
   "id": "3a497449",
   "metadata": {},
   "outputs": [
    {
     "data": {
      "text/plain": [
       "['never',\n",
       " 'applied',\n",
       " 'category',\n",
       " 'consignment',\n",
       " 'followup',\n",
       " 'nearby',\n",
       " 'glass',\n",
       " 'still',\n",
       " 'serviceable',\n",
       " 'hidden',\n",
       " 'express',\n",
       " 'agent',\n",
       " 'available',\n",
       " 'unable',\n",
       " 'electronic',\n",
       " 'different',\n",
       " 'inside',\n",
       " 'several',\n",
       " 'trace',\n",
       " 'repeated',\n",
       " 'shipment',\n",
       " 'track',\n",
       " 'keep',\n",
       " 'card',\n",
       " 'know',\n",
       " 'handling',\n",
       " 'trying',\n",
       " '30',\n",
       " 'city',\n",
       " 'boy',\n",
       " 'reached',\n",
       " 'info',\n",
       " 'book',\n",
       " 'minute',\n",
       " 'cancelled',\n",
       " 'customer',\n",
       " 'delayed',\n",
       " 'paid',\n",
       " 'unjustified',\n",
       " 'address',\n",
       " 'website',\n",
       " 'citing',\n",
       " 'despite',\n",
       " 'scheduled',\n",
       " 'delivered',\n",
       " 'premium',\n",
       " 'content',\n",
       " 'item',\n",
       " '5',\n",
       " 'double',\n",
       " 'wearing',\n",
       " 'day',\n",
       " 'invalid',\n",
       " 'simple',\n",
       " 'shop',\n",
       " 'packaging',\n",
       " 'got',\n",
       " 'poor',\n",
       " 'assistance',\n",
       " 'gave',\n",
       " 'disappeared',\n",
       " 'get',\n",
       " 'pin',\n",
       " 'completely',\n",
       " 'online',\n",
       " 'attempt',\n",
       " 'hub',\n",
       " 'app',\n",
       " 'unavailable',\n",
       " 'technical',\n",
       " 'support',\n",
       " 'came',\n",
       " 'help',\n",
       " 'delay',\n",
       " 'amount',\n",
       " 'received',\n",
       " 'booking',\n",
       " '10',\n",
       " 'lost',\n",
       " 'else',\n",
       " 'portal',\n",
       " 'proper',\n",
       " 'fee',\n",
       " 'refused',\n",
       " 'crash',\n",
       " 'idea',\n",
       " 'took',\n",
       " 'provide',\n",
       " 'carelessly',\n",
       " 'false',\n",
       " 'id',\n",
       " 'visit',\n",
       " 'extra',\n",
       " 'unprofessional',\n",
       " 'confirmed',\n",
       " 'attempting',\n",
       " 'always',\n",
       " '2day',\n",
       " 'back',\n",
       " 'receipt',\n",
       " 'week',\n",
       " 'dented',\n",
       " 'team',\n",
       " 'outdated',\n",
       " 'collect',\n",
       " 'weekend',\n",
       " 'resolution',\n",
       " 'time',\n",
       " 'many',\n",
       " 'show',\n",
       " 'multiple',\n",
       " 'take',\n",
       " 'disconnected',\n",
       " 'care',\n",
       " 'live',\n",
       " 'rude',\n",
       " 'vague',\n",
       " 'box',\n",
       " 'go',\n",
       " 'mentioned',\n",
       " 'home',\n",
       " 'charge',\n",
       " 'status',\n",
       " 'printed',\n",
       " 'contacting',\n",
       " 'incomplete',\n",
       " 'checkout',\n",
       " 'seal',\n",
       " 'promised',\n",
       " 'tracking',\n",
       " 'confirmation',\n",
       " 'entering',\n",
       " 'frequent',\n",
       " 'complaint',\n",
       " 'contact',\n",
       " 'informing',\n",
       " 'added',\n",
       " 'handed',\n",
       " 'clarification',\n",
       " 'sent',\n",
       " 'staff',\n",
       " 'cant',\n",
       " 'collected',\n",
       " 'missed',\n",
       " 'business',\n",
       " 'updating',\n",
       " 'wont',\n",
       " 'mismatched',\n",
       " 'unresponsive',\n",
       " 'marked',\n",
       " 'shattered',\n",
       " 'service',\n",
       " 'parcel',\n",
       " 'system',\n",
       " 'needed',\n",
       " 'payment',\n",
       " 'weight',\n",
       " 'communication',\n",
       " 'loss',\n",
       " 'respond',\n",
       " 'charged',\n",
       " 'caused',\n",
       " 'incorrect',\n",
       " 'come',\n",
       " 'electronics',\n",
       " 'later',\n",
       " 'unfairly',\n",
       " 'product',\n",
       " 'midtransit',\n",
       " 'device',\n",
       " 'long',\n",
       " 'deliverable',\n",
       " 'street',\n",
       " 'transfer',\n",
       " 'provided',\n",
       " 'found',\n",
       " 'local',\n",
       " 'information',\n",
       " 'glitch',\n",
       " 'picked',\n",
       " 'code',\n",
       " 'delivery',\n",
       " 'held',\n",
       " 'wrong',\n",
       " 'spoiled',\n",
       " 'showed',\n",
       " 'office',\n",
       " 'one',\n",
       " 'note',\n",
       " 'offline',\n",
       " 'went',\n",
       " 'unanswered',\n",
       " 'arrive',\n",
       " 'crashing',\n",
       " 'email',\n",
       " 'broken',\n",
       " 'issue',\n",
       " 'match',\n",
       " 'leaking',\n",
       " 'ignored',\n",
       " 'reply',\n",
       " 'doesnt',\n",
       " 'late',\n",
       " 'dissatisfied',\n",
       " 'didnt',\n",
       " 'put',\n",
       " 'location',\n",
       " 'upon',\n",
       " 'called',\n",
       " 'instead',\n",
       " 'could',\n",
       " 'used',\n",
       " 'updated',\n",
       " 'explanation',\n",
       " 'stuck',\n",
       " 'crushed',\n",
       " 'failed',\n",
       " 'detail',\n",
       " 'missing',\n",
       " 'estimated',\n",
       " 'notice',\n",
       " 'claimed',\n",
       " 'experience',\n",
       " 'handled',\n",
       " 'prior',\n",
       " 'invoice',\n",
       " 'mismanagement',\n",
       " '’',\n",
       " 'responsibility',\n",
       " 'update',\n",
       " 'accept',\n",
       " 'asked',\n",
       " 'unhelpful',\n",
       " 'terrible',\n",
       " 'number',\n",
       " 'hold',\n",
       " 'deliver',\n",
       " 'executive',\n",
       " 'response',\n",
       " 'saying',\n",
       " 'tracked',\n",
       " 'internal',\n",
       " 'arrival',\n",
       " 'right',\n",
       " 'international',\n",
       " 'without',\n",
       " 'person',\n",
       " 'due',\n",
       " 'call',\n",
       " 'damaged',\n",
       " 'someone',\n",
       " 'meant',\n",
       " 'answer',\n",
       " 'courier',\n",
       " 'transit',\n",
       " 'cooperative',\n",
       " 'receiver',\n",
       " 'arrived',\n",
       " 'hasnt',\n",
       " 'misplaced',\n",
       " 'pickup',\n",
       " 'torn',\n",
       " 'chat',\n",
       " 'error',\n",
       " 'package',\n",
       " 'correct',\n",
       " 'dispatch',\n",
       " 'made',\n",
       " 'returned',\n",
       " 'size',\n",
       " 'dtdc',\n",
       " 'input']"
      ]
     },
     "execution_count": 9,
     "metadata": {},
     "output_type": "execute_result"
    }
   ],
   "source": [
    "vocabulary # words present in the entire dataset"
   ]
  },
  {
   "cell_type": "code",
   "execution_count": 10,
   "id": "e68d3d7f",
   "metadata": {},
   "outputs": [
    {
     "data": {
      "text/html": [
       "<div>\n",
       "<style scoped>\n",
       "    .dataframe tbody tr th:only-of-type {\n",
       "        vertical-align: middle;\n",
       "    }\n",
       "\n",
       "    .dataframe tbody tr th {\n",
       "        vertical-align: top;\n",
       "    }\n",
       "\n",
       "    .dataframe thead th {\n",
       "        text-align: right;\n",
       "    }\n",
       "</style>\n",
       "<table border=\"1\" class=\"dataframe\">\n",
       "  <thead>\n",
       "    <tr style=\"text-align: right;\">\n",
       "      <th></th>\n",
       "      <th>Complaint Text</th>\n",
       "      <th>Category</th>\n",
       "      <th>Cleaned_Complaint_text</th>\n",
       "    </tr>\n",
       "  </thead>\n",
       "  <tbody>\n",
       "    <tr>\n",
       "      <th>0</th>\n",
       "      <td>Support team ignored my issue.</td>\n",
       "      <td>Service Quality Issue</td>\n",
       "      <td>[support, team, ignored, issue]</td>\n",
       "    </tr>\n",
       "    <tr>\n",
       "      <th>1</th>\n",
       "      <td>Wrong address printed.</td>\n",
       "      <td>Booking Issue</td>\n",
       "      <td>[wrong, address, printed]</td>\n",
       "    </tr>\n",
       "    <tr>\n",
       "      <th>2</th>\n",
       "      <td>Delivery attempt was not made.</td>\n",
       "      <td>Failed Delivery</td>\n",
       "      <td>[delivery, attempt, made]</td>\n",
       "    </tr>\n",
       "    <tr>\n",
       "      <th>3</th>\n",
       "      <td>App crashes during booking.</td>\n",
       "      <td>Booking Issue</td>\n",
       "      <td>[app, crash, booking]</td>\n",
       "    </tr>\n",
       "    <tr>\n",
       "      <th>4</th>\n",
       "      <td>Repeated failed delivery attempts without cont...</td>\n",
       "      <td>Failed Delivery</td>\n",
       "      <td>[repeated, failed, delivery, attempt, without,...</td>\n",
       "    </tr>\n",
       "    <tr>\n",
       "      <th>...</th>\n",
       "      <td>...</td>\n",
       "      <td>...</td>\n",
       "      <td>...</td>\n",
       "    </tr>\n",
       "    <tr>\n",
       "      <th>3495</th>\n",
       "      <td>DTDC team never picked up the parcel as schedu...</td>\n",
       "      <td>Service Quality Issue</td>\n",
       "      <td>[dtdc, team, never, picked, parcel, scheduled]</td>\n",
       "    </tr>\n",
       "    <tr>\n",
       "      <th>3496</th>\n",
       "      <td>Tracking shows delivered, but I haven’t receiv...</td>\n",
       "      <td>Tracking Issue</td>\n",
       "      <td>[tracking, show, delivered, ’, received]</td>\n",
       "    </tr>\n",
       "    <tr>\n",
       "      <th>3497</th>\n",
       "      <td>No one knows where my item is.</td>\n",
       "      <td>Misplaced Parcel</td>\n",
       "      <td>[one, know, item]</td>\n",
       "    </tr>\n",
       "    <tr>\n",
       "      <th>3498</th>\n",
       "      <td>Incorrect invoice amount.</td>\n",
       "      <td>Overcharging</td>\n",
       "      <td>[incorrect, invoice, amount]</td>\n",
       "    </tr>\n",
       "    <tr>\n",
       "      <th>3499</th>\n",
       "      <td>Courier marked delivered but I didn’t get it.</td>\n",
       "      <td>Failed Delivery</td>\n",
       "      <td>[courier, marked, delivered, ’, get]</td>\n",
       "    </tr>\n",
       "  </tbody>\n",
       "</table>\n",
       "<p>3500 rows × 3 columns</p>\n",
       "</div>"
      ],
      "text/plain": [
       "                                         Complaint Text  \\\n",
       "0                        Support team ignored my issue.   \n",
       "1                                Wrong address printed.   \n",
       "2                        Delivery attempt was not made.   \n",
       "3                           App crashes during booking.   \n",
       "4     Repeated failed delivery attempts without cont...   \n",
       "...                                                 ...   \n",
       "3495  DTDC team never picked up the parcel as schedu...   \n",
       "3496  Tracking shows delivered, but I haven’t receiv...   \n",
       "3497                     No one knows where my item is.   \n",
       "3498                          Incorrect invoice amount.   \n",
       "3499      Courier marked delivered but I didn’t get it.   \n",
       "\n",
       "                   Category                             Cleaned_Complaint_text  \n",
       "0     Service Quality Issue                    [support, team, ignored, issue]  \n",
       "1             Booking Issue                          [wrong, address, printed]  \n",
       "2           Failed Delivery                          [delivery, attempt, made]  \n",
       "3             Booking Issue                              [app, crash, booking]  \n",
       "4           Failed Delivery  [repeated, failed, delivery, attempt, without,...  \n",
       "...                     ...                                                ...  \n",
       "3495  Service Quality Issue     [dtdc, team, never, picked, parcel, scheduled]  \n",
       "3496         Tracking Issue           [tracking, show, delivered, ’, received]  \n",
       "3497       Misplaced Parcel                                  [one, know, item]  \n",
       "3498           Overcharging                       [incorrect, invoice, amount]  \n",
       "3499        Failed Delivery               [courier, marked, delivered, ’, get]  \n",
       "\n",
       "[3500 rows x 3 columns]"
      ]
     },
     "execution_count": 10,
     "metadata": {},
     "output_type": "execute_result"
    }
   ],
   "source": [
    "data"
   ]
  },
  {
   "cell_type": "code",
   "execution_count": null,
   "id": "8184768b",
   "metadata": {},
   "outputs": [],
   "source": [
    "# Added the small noise so that the model generalizes well\n",
    "def add_text_noise(tokenized_text, noise_rate=0.1):\n",
    "    noisy_text = []\n",
    "    for word in tokenized_text:\n",
    "        if random.random() < noise_rate:\n",
    "            if len(word) > 1:\n",
    "                idx = random.randint(0, len(word) - 1)\n",
    "                ch = random.choice('abcdefghijklmnopqrstuvwxyz')\n",
    "                noisy_word = word[:idx] + ch + word[idx+1:]\n",
    "                noisy_text.append(noisy_word)\n",
    "            else:\n",
    "                noisy_text.append(word)\n",
    "        else:\n",
    "            noisy_text.append(word)\n",
    "    return noisy_text\n"
   ]
  },
  {
   "cell_type": "code",
   "execution_count": 12,
   "id": "086e1d1d",
   "metadata": {},
   "outputs": [],
   "source": [
    "data['Noisy_Complaint_Text'] = data['Cleaned_Complaint_text'].apply(lambda x: add_text_noise(x, noise_rate=0.05))"
   ]
  },
  {
   "cell_type": "code",
   "execution_count": null,
   "id": "80b05615",
   "metadata": {},
   "outputs": [
    {
     "data": {
      "image/png": "[encoded data removed]",
      "text/plain": [
       "<Figure size 1200x600 with 1 Axes>"
      ]
     },
     "metadata": {},
     "output_type": "display_data"
    }
   ],
   "source": [
    "# Visualization of 10 categories\n",
    "plt.figure(figsize=(12, 6))\n",
    "data['Category'].value_counts().plot(kind='bar')\n",
    "plt.title('Category Distribution')\n",
    "plt.xticks(rotation=45, ha='right')\n",
    "plt.tight_layout()\n",
    "plt.show()"
   ]
  },
  {
   "cell_type": "markdown",
   "id": "9bdc40d7",
   "metadata": {},
   "source": [
    "#### Feature Engineering"
   ]
  },
  {
   "cell_type": "code",
   "execution_count": 13,
   "id": "1b4f998a",
   "metadata": {},
   "outputs": [],
   "source": [
    "# length of characters in a sentence is returned here \n",
    "def len_of_text(text):\n",
    "    return len(\"\".join(text.split()))"
   ]
  },
  {
   "cell_type": "code",
   "execution_count": 14,
   "id": "a7e516b5",
   "metadata": {},
   "outputs": [],
   "source": [
    "data['text_len'] = data['Complaint Text'].apply(lambda x: len(\"\".join(x.split())))"
   ]
  },
  {
   "cell_type": "code",
   "execution_count": null,
   "id": "ef5ca701",
   "metadata": {},
   "outputs": [],
   "source": [
    "# Here the punctuation's percentage is returned\n",
    "def Punc_per(text):\n",
    "    count = sum([1 for char in text if char in punctuation])\n",
    "    return round(count/(len(text)-text.count(\" \"))*100,3)"
   ]
  },
  {
   "cell_type": "code",
   "execution_count": 16,
   "id": "5919d1bb",
   "metadata": {},
   "outputs": [],
   "source": [
    "data['punctuation_percent'] = data['Complaint Text'].apply(lambda x : Punc_per(x))"
   ]
  },
  {
   "cell_type": "code",
   "execution_count": 17,
   "id": "df393e97",
   "metadata": {},
   "outputs": [
    {
     "data": {
      "text/html": [
       "<div>\n",
       "<style scoped>\n",
       "    .dataframe tbody tr th:only-of-type {\n",
       "        vertical-align: middle;\n",
       "    }\n",
       "\n",
       "    .dataframe tbody tr th {\n",
       "        vertical-align: top;\n",
       "    }\n",
       "\n",
       "    .dataframe thead th {\n",
       "        text-align: right;\n",
       "    }\n",
       "</style>\n",
       "<table border=\"1\" class=\"dataframe\">\n",
       "  <thead>\n",
       "    <tr style=\"text-align: right;\">\n",
       "      <th></th>\n",
       "      <th>Cleaned_Complaint_text</th>\n",
       "      <th>text_len</th>\n",
       "      <th>Noisy_Complaint_Text</th>\n",
       "      <th>punctuation_percent</th>\n",
       "    </tr>\n",
       "  </thead>\n",
       "  <tbody>\n",
       "    <tr>\n",
       "      <th>0</th>\n",
       "      <td>[support, team, ignored, issue]</td>\n",
       "      <td>26</td>\n",
       "      <td>[support, team, ignored, issus]</td>\n",
       "      <td>3.846</td>\n",
       "    </tr>\n",
       "    <tr>\n",
       "      <th>1</th>\n",
       "      <td>[wrong, address, printed]</td>\n",
       "      <td>20</td>\n",
       "      <td>[wrong, address, printed]</td>\n",
       "      <td>5.000</td>\n",
       "    </tr>\n",
       "    <tr>\n",
       "      <th>2</th>\n",
       "      <td>[delivery, attempt, made]</td>\n",
       "      <td>26</td>\n",
       "      <td>[delivery, attempt, made]</td>\n",
       "      <td>3.846</td>\n",
       "    </tr>\n",
       "    <tr>\n",
       "      <th>3</th>\n",
       "      <td>[app, crash, booking]</td>\n",
       "      <td>24</td>\n",
       "      <td>[app, craeh, booking]</td>\n",
       "      <td>4.167</td>\n",
       "    </tr>\n",
       "    <tr>\n",
       "      <th>4</th>\n",
       "      <td>[repeated, failed, delivery, attempt, without,...</td>\n",
       "      <td>50</td>\n",
       "      <td>[repeated, failed, delivere, attempt, without,...</td>\n",
       "      <td>2.000</td>\n",
       "    </tr>\n",
       "    <tr>\n",
       "      <th>...</th>\n",
       "      <td>...</td>\n",
       "      <td>...</td>\n",
       "      <td>...</td>\n",
       "      <td>...</td>\n",
       "    </tr>\n",
       "    <tr>\n",
       "      <th>3495</th>\n",
       "      <td>[dtdc, team, never, picked, parcel, scheduled]</td>\n",
       "      <td>42</td>\n",
       "      <td>[dtdc, team, never, picked, parcel, scheduled]</td>\n",
       "      <td>2.381</td>\n",
       "    </tr>\n",
       "    <tr>\n",
       "      <th>3496</th>\n",
       "      <td>[tracking, show, delivered, ’, received]</td>\n",
       "      <td>45</td>\n",
       "      <td>[tracking, show, delivered, ’, received]</td>\n",
       "      <td>4.444</td>\n",
       "    </tr>\n",
       "    <tr>\n",
       "      <th>3497</th>\n",
       "      <td>[one, know, item]</td>\n",
       "      <td>24</td>\n",
       "      <td>[one, know, item]</td>\n",
       "      <td>4.167</td>\n",
       "    </tr>\n",
       "    <tr>\n",
       "      <th>3498</th>\n",
       "      <td>[incorrect, invoice, amount]</td>\n",
       "      <td>23</td>\n",
       "      <td>[incorrect, invoice, amount]</td>\n",
       "      <td>4.348</td>\n",
       "    </tr>\n",
       "    <tr>\n",
       "      <th>3499</th>\n",
       "      <td>[courier, marked, delivered, ’, get]</td>\n",
       "      <td>38</td>\n",
       "      <td>[courier, marked, delivered, ’, get]</td>\n",
       "      <td>2.632</td>\n",
       "    </tr>\n",
       "  </tbody>\n",
       "</table>\n",
       "<p>3500 rows × 4 columns</p>\n",
       "</div>"
      ],
      "text/plain": [
       "                                 Cleaned_Complaint_text  text_len  \\\n",
       "0                       [support, team, ignored, issue]        26   \n",
       "1                             [wrong, address, printed]        20   \n",
       "2                             [delivery, attempt, made]        26   \n",
       "3                                 [app, crash, booking]        24   \n",
       "4     [repeated, failed, delivery, attempt, without,...        50   \n",
       "...                                                 ...       ...   \n",
       "3495     [dtdc, team, never, picked, parcel, scheduled]        42   \n",
       "3496           [tracking, show, delivered, ’, received]        45   \n",
       "3497                                  [one, know, item]        24   \n",
       "3498                       [incorrect, invoice, amount]        23   \n",
       "3499               [courier, marked, delivered, ’, get]        38   \n",
       "\n",
       "                                   Noisy_Complaint_Text  punctuation_percent  \n",
       "0                       [support, team, ignored, issus]                3.846  \n",
       "1                             [wrong, address, printed]                5.000  \n",
       "2                             [delivery, attempt, made]                3.846  \n",
       "3                                 [app, craeh, booking]                4.167  \n",
       "4     [repeated, failed, delivere, attempt, without,...                2.000  \n",
       "...                                                 ...                  ...  \n",
       "3495     [dtdc, team, never, picked, parcel, scheduled]                2.381  \n",
       "3496           [tracking, show, delivered, ’, received]                4.444  \n",
       "3497                                  [one, know, item]                4.167  \n",
       "3498                       [incorrect, invoice, amount]                4.348  \n",
       "3499               [courier, marked, delivered, ’, get]                2.632  \n",
       "\n",
       "[3500 rows x 4 columns]"
      ]
     },
     "execution_count": 17,
     "metadata": {},
     "output_type": "execute_result"
    }
   ],
   "source": [
    "data[['Cleaned_Complaint_text', 'text_len', 'Noisy_Complaint_Text', 'punctuation_percent']]"
   ]
  },
  {
   "cell_type": "code",
   "execution_count": 18,
   "id": "059793de",
   "metadata": {},
   "outputs": [
    {
     "data": {
      "text/plain": [
       "['support', 'team', 'ignored', 'issue']"
      ]
     },
     "execution_count": 18,
     "metadata": {},
     "output_type": "execute_result"
    }
   ],
   "source": [
    "data['Cleaned_Complaint_text'][0]"
   ]
  },
  {
   "cell_type": "code",
   "execution_count": 19,
   "id": "12913388",
   "metadata": {},
   "outputs": [
    {
     "data": {
      "text/plain": [
       "'Support team ignored my issue.'"
      ]
     },
     "execution_count": 19,
     "metadata": {},
     "output_type": "execute_result"
    }
   ],
   "source": [
    "data['Complaint Text'][0]"
   ]
  },
  {
   "cell_type": "markdown",
   "id": "50868355",
   "metadata": {},
   "source": [
    "Word2Vec"
   ]
  },
  {
   "cell_type": "code",
   "execution_count": null,
   "id": "6b58f662",
   "metadata": {},
   "outputs": [],
   "source": [
    "# Used the word2vec to get the embeddings of the words in sentences\n",
    "# used seed for reproducibility\n",
    "SEED = 42\n",
    "random.seed(SEED)\n",
    "np.random.seed(SEED)\n",
    "torch.manual_seed(SEED)\n",
    "sentences = data['Noisy_Complaint_Text']\n",
    "w2v_model = Word2Vec(sentences,\n",
    "                     vector_size=100, \n",
    "                     window=5, \n",
    "                     min_count=1, \n",
    "                     sg=1, \n",
    "                     seed=SEED, \n",
    "                     workers=1, \n",
    "                     epochs=10, \n",
    "                     sorted_vocab=True)"
   ]
  },
  {
   "cell_type": "code",
   "execution_count": null,
   "id": "7f0f7d1f",
   "metadata": {},
   "outputs": [
    {
     "name": "stdout",
     "output_type": "stream",
     "text": [
      "[-1.30235955e-01 -1.01873778e-01 -2.89633550e-04 -1.84764743e-01\n",
      " -2.31033862e-01 -1.80361774e-02  1.94778085e-01  7.43437856e-02\n",
      " -1.36640325e-01 -6.22804686e-02 -2.93626904e-01 -5.07670715e-02\n",
      "  5.11768758e-02  3.19621772e-01 -3.46098274e-01 -1.34268314e-01\n",
      "  3.99483293e-01 -1.33437961e-01 -2.10945264e-01 -9.10326466e-02\n",
      " -2.61053801e-01  1.49855718e-01  1.27479866e-01  1.21344015e-01\n",
      " -2.78699189e-01  3.31909657e-01 -3.34401160e-01  2.92810231e-01\n",
      " -2.83276010e-02 -1.91725045e-01  1.42388120e-01 -4.18267958e-03\n",
      "  2.94152796e-01  2.36285836e-01  8.84961635e-02  3.59168276e-03\n",
      "  4.28316370e-03 -4.11715299e-01 -1.58709884e-02  1.29961431e-01\n",
      "  1.57651454e-01 -9.13265646e-02  7.28690267e-01 -8.59528035e-02\n",
      "  8.04879218e-02  2.43531037e-02  2.35209554e-01 -1.41583353e-01\n",
      "  1.77233830e-01 -1.93478763e-01  1.71900481e-01 -3.85244936e-01\n",
      " -4.74914983e-02  1.11411333e-01  2.83199288e-02 -1.98996216e-01\n",
      "  4.77505960e-02  1.03526928e-01  4.02372517e-02  2.73284733e-01\n",
      " -3.77056062e-01 -1.53112665e-01  1.08577080e-01  6.12776317e-02\n",
      "  3.63718599e-01  6.70221448e-02 -1.41911283e-01 -2.03049079e-01\n",
      " -1.37477303e-02 -9.22358036e-02 -1.90316528e-01 -3.20696265e-01\n",
      " -3.76944058e-02 -4.11886796e-02 -1.12342678e-01 -1.72516748e-01\n",
      "  6.62504807e-02 -7.68701360e-02 -2.01980025e-01  1.65901393e-01\n",
      " -2.85307914e-01  1.43497527e-01 -1.44100294e-01 -7.89098516e-02\n",
      " -4.01864946e-01  4.15010691e-01 -2.32333057e-02 -2.45427728e-01\n",
      " -6.78749606e-02 -3.17726105e-01 -5.85943460e-01  3.87342781e-01\n",
      " -1.43435784e-02  2.06741571e-01  2.79945403e-01  2.02126894e-03\n",
      " -2.70289779e-01  1.69420525e-01 -1.86489284e-01 -7.57786259e-03]\n"
     ]
    }
   ],
   "source": [
    "# Embedding of consignment after word2vec\n",
    "print(w2v_model.wv['consignment'])"
   ]
  },
  {
   "cell_type": "markdown",
   "id": "9a4e3c88",
   "metadata": {},
   "source": [
    "Padding"
   ]
  },
  {
   "cell_type": "code",
   "execution_count": null,
   "id": "161f83fa",
   "metadata": {},
   "outputs": [],
   "source": [
    "# padded sentence embeddings to fixed size length(max_len)\n",
    "embedding_dim = 100\n",
    "max_len = 20\n",
    "\n",
    "def get_embedding_matrix(sentences, model, max_len):\n",
    "    data = []\n",
    "    for sent in sentences:\n",
    "        vecs = []\n",
    "        for word in sent:\n",
    "            if word in model.wv:\n",
    "                vecs.append(torch.tensor(model.wv[word]))\n",
    "        if len(vecs) < max_len:\n",
    "            pad_len = max_len - len(vecs)\n",
    "            vecs.extend([torch.zeros(embedding_dim)] * pad_len)\n",
    "        else:\n",
    "            vecs = vecs[:max_len]\n",
    "        data.append(torch.stack(vecs))\n",
    "    return torch.stack(data)"
   ]
  },
  {
   "cell_type": "markdown",
   "id": "29f92a90",
   "metadata": {},
   "source": [
    "#### Feed Farword Network"
   ]
  },
  {
   "cell_type": "code",
   "execution_count": null,
   "id": "642fadb0",
   "metadata": {},
   "outputs": [
    {
     "name": "stdout",
     "output_type": "stream",
     "text": [
      "torch.Size([3500, 20, 100])\n"
     ]
    }
   ],
   "source": [
    "# Stored padded embeddings in X\n",
    "X = get_embedding_matrix(sentences, w2v_model, max_len)\n",
    "print(X.shape)"
   ]
  },
  {
   "cell_type": "code",
   "execution_count": null,
   "id": "406254a0",
   "metadata": {},
   "outputs": [
    {
     "data": {
      "text/plain": [
       "torch.Size([3500, 2000])"
      ]
     },
     "execution_count": 134,
     "metadata": {},
     "output_type": "execute_result"
    }
   ],
   "source": [
    "# Flattened [batch, max_len, embed_dim] to [batch, max_len*embed_dim] for feed-forward input\n",
    "X = X.view(X.size(0), -1)\n",
    "X.shape"
   ]
  },
  {
   "cell_type": "code",
   "execution_count": null,
   "id": "d17fee49",
   "metadata": {},
   "outputs": [],
   "source": [
    "# encoded the category column classes\n",
    "encoder = LabelEncoder()\n",
    "encoder = LabelEncoder()\n",
    "choices = data['Category'].unique()\n",
    "data['Noisy_Category'] = data['Category'].apply(\n",
    "    lambda x: random.choice(choices) if random.random() < 0.1 else x\n",
    ")\n",
    "y = encoder.fit_transform(data['Noisy_Category'])"
   ]
  },
  {
   "cell_type": "code",
   "execution_count": null,
   "id": "a5442910",
   "metadata": {},
   "outputs": [],
   "source": [
    "# Scaled the engineered features\n",
    "scaler = StandardScaler()\n",
    "scaled_features = scaler.fit_transform(data[['text_len', 'punctuation_percent']])\n",
    "X_scalar = torch.tensor(scaled_features, dtype=torch.float32)"
   ]
  },
  {
   "cell_type": "code",
   "execution_count": 137,
   "id": "cb361b1e",
   "metadata": {},
   "outputs": [],
   "source": [
    "X_ffnn = torch.cat([X, X_scalar], dim=1)\n",
    "y_ffnn = y"
   ]
  },
  {
   "cell_type": "code",
   "execution_count": 138,
   "id": "698cd4ee",
   "metadata": {},
   "outputs": [
    {
     "data": {
      "text/plain": [
       "torch.Size([3500, 2002])"
      ]
     },
     "execution_count": 138,
     "metadata": {},
     "output_type": "execute_result"
    }
   ],
   "source": [
    "X_ffnn.shape"
   ]
  },
  {
   "cell_type": "code",
   "execution_count": 139,
   "id": "7f615093",
   "metadata": {},
   "outputs": [],
   "source": [
    "X_ffnn_train, X_ffnn_val, y_ffnn_train, y_ffnn_val = train_test_split(\n",
    "    X_ffnn, y_ffnn, test_size=0.2, random_state=42\n",
    ")"
   ]
  },
  {
   "cell_type": "code",
   "execution_count": null,
   "id": "9a562dac",
   "metadata": {},
   "outputs": [],
   "source": [
    "# Defined a custom PyTorch Dataset\n",
    "class ComplaintDataset(Dataset):\n",
    "    def __init__(self, X, y):\n",
    "        self.X = X\n",
    "        self.y = y\n",
    "    def __len__(self):\n",
    "        return len(self.X)\n",
    "    def __getitem__(self, idx):\n",
    "        return self.X[idx], self.y[idx]\n",
    "\n",
    "train_ds_ffnn = ComplaintDataset(X_ffnn_train, torch.tensor(y_ffnn_train, dtype=torch.long))\n",
    "val_ds_ffnn = ComplaintDataset(X_ffnn_val, torch.tensor(y_ffnn_val, dtype=torch.long))"
   ]
  },
  {
   "cell_type": "code",
   "execution_count": 141,
   "id": "038e5918",
   "metadata": {},
   "outputs": [],
   "source": [
    "train_loader_ffnn = DataLoader(train_ds_ffnn, batch_size=32, shuffle=True)\n",
    "val_loader_ffnn = DataLoader(val_ds_ffnn, batch_size=32)"
   ]
  },
  {
   "cell_type": "code",
   "execution_count": null,
   "id": "0dc32f62",
   "metadata": {},
   "outputs": [],
   "source": [
    "# A simple feed forward network\n",
    "class FeedForwardNet(nn.Module):\n",
    "    def __init__(self, input_dim, output_dim):\n",
    "        super(FeedForwardNet, self).__init__()\n",
    "        self.output_layer = nn.Linear(input_dim, output_dim)\n",
    "    def forward(self, x):\n",
    "        return self.output_layer(x)"
   ]
  },
  {
   "cell_type": "code",
   "execution_count": null,
   "id": "6e474299",
   "metadata": {},
   "outputs": [],
   "source": [
    "# initialized the network\n",
    "device = torch.device(\"cuda\" if torch.cuda.is_available() else \"cpu\")\n",
    "model_ffnn = FeedForwardNet(input_dim=X_ffnn.shape[1], output_dim=len(set(y_ffnn))).to(device)"
   ]
  },
  {
   "cell_type": "code",
   "execution_count": null,
   "id": "996fcfc8",
   "metadata": {},
   "outputs": [],
   "source": [
    "# loss function and optimizer for training the FFNN\n",
    "criterion = nn.CrossEntropyLoss()\n",
    "optimizer = torch.optim.Adam(model_ffnn.parameters(), lr=1e-3, weight_decay=1e-4)"
   ]
  },
  {
   "cell_type": "code",
   "execution_count": null,
   "id": "b976d2b6",
   "metadata": {},
   "outputs": [
    {
     "name": "stdout",
     "output_type": "stream",
     "text": [
      "Epoch 1 | Train Loss: 1.7883 | Val Loss: 1.3635\n",
      "Epoch 2 | Train Loss: 1.2205 | Val Loss: 1.0437\n",
      "Epoch 3 | Train Loss: 0.9949 | Val Loss: 0.8987\n",
      "Epoch 4 | Train Loss: 0.8779 | Val Loss: 0.8181\n",
      "Epoch 5 | Train Loss: 0.8036 | Val Loss: 0.7656\n",
      "Epoch 6 | Train Loss: 0.7504 | Val Loss: 0.7326\n",
      "Epoch 7 | Train Loss: 0.7126 | Val Loss: 0.7067\n",
      "Epoch 8 | Train Loss: 0.6847 | Val Loss: 0.6904\n",
      "Epoch 9 | Train Loss: 0.6611 | Val Loss: 0.6768\n",
      "Epoch 10 | Train Loss: 0.6427 | Val Loss: 0.6686\n"
     ]
    }
   ],
   "source": [
    "# trained the feed-forward network for 10 epochs\n",
    "train_losses = []\n",
    "val_losses = []\n",
    "\n",
    "for epoch in range(10):\n",
    "    model_ffnn.train()\n",
    "    running_loss = 0.0\n",
    "    train_preds_all = []\n",
    "    train_labels_all = []\n",
    "    \n",
    "    for batch_X, batch_y in train_loader_ffnn:\n",
    "        batch_X, batch_y = batch_X.to(device), batch_y.to(device)\n",
    "        preds = model_ffnn(batch_X)\n",
    "        loss = criterion(preds, batch_y)\n",
    "\n",
    "        optimizer.zero_grad()\n",
    "        loss.backward()\n",
    "        optimizer.step()\n",
    "        running_loss += loss.item()\n",
    "        train_preds_all.extend(torch.argmax(preds, dim=1).cpu().numpy())\n",
    "        train_labels_all.extend(batch_y.cpu().numpy())\n",
    "\n",
    "    avg_train_loss = running_loss / len(train_loader_ffnn)\n",
    "    model_ffnn.eval()\n",
    "    val_loss = 0.0\n",
    "    val_preds_all = []\n",
    "    val_labels_all = []\n",
    "    \n",
    "    with torch.no_grad():\n",
    "        for batch_X, batch_y in val_loader_ffnn:\n",
    "            preds = model_ffnn(batch_X)\n",
    "            loss = criterion(preds, batch_y)\n",
    "            val_loss += loss.item()\n",
    "            val_preds_all.extend(torch.argmax(preds, dim=1).cpu().numpy())\n",
    "            val_labels_all.extend(batch_y.cpu().numpy())\n",
    "    \n",
    "    avg_val_loss = val_loss / len(val_loader_ffnn)\n",
    "    train_losses.append(avg_train_loss)\n",
    "    val_losses.append(avg_val_loss)\n",
    "    \n",
    "    print(f\"Epoch {epoch+1} | Train Loss: {avg_train_loss:.4f} | Val Loss: {avg_val_loss:.4f}\")\n"
   ]
  },
  {
   "cell_type": "markdown",
   "id": "be47b883",
   "metadata": {},
   "source": [
    "#### Evaluation"
   ]
  },
  {
   "cell_type": "code",
   "execution_count": null,
   "id": "93a06d25",
   "metadata": {},
   "outputs": [],
   "source": [
    "# Switched model to eval mode and got predictions on the validation set.\n",
    "model_ffnn.eval()\n",
    "with torch.no_grad():\n",
    "    preds = model_ffnn(X_ffnn_val)\n",
    "    predicted_labels = torch.argmax(preds, dim=1)\n"
   ]
  },
  {
   "cell_type": "markdown",
   "id": "a876e0af",
   "metadata": {},
   "source": [
    "Report"
   ]
  },
  {
   "cell_type": "code",
   "execution_count": null,
   "id": "f78b2d0b",
   "metadata": {},
   "outputs": [
    {
     "name": "stdout",
     "output_type": "stream",
     "text": [
      "Accuracy: 0.9\n"
     ]
    }
   ],
   "source": [
    "y_true = y_ffnn_val\n",
    "y_pred = predicted_labels.numpy()\n",
    "\n",
    "print(\"Accuracy:\", round(accuracy_score(y_true, y_pred), 2))"
   ]
  },
  {
   "cell_type": "code",
   "execution_count": 148,
   "id": "023e154b",
   "metadata": {},
   "outputs": [
    {
     "name": "stdout",
     "output_type": "stream",
     "text": [
      "Classification Report:\n",
      "\n",
      "              precision    recall  f1-score   support\n",
      "\n",
      "           0       0.91      0.96      0.93        67\n",
      "           1       0.94      0.85      0.89        71\n",
      "           2       0.84      0.87      0.86        62\n",
      "           3       0.96      0.96      0.96        69\n",
      "           4       0.90      0.94      0.92        67\n",
      "           5       0.87      0.90      0.89        73\n",
      "           6       0.86      0.90      0.88        84\n",
      "           7       0.88      0.88      0.88        67\n",
      "           8       0.92      0.89      0.90        73\n",
      "           9       0.93      0.85      0.89        67\n",
      "\n",
      "    accuracy                           0.90       700\n",
      "   macro avg       0.90      0.90      0.90       700\n",
      "weighted avg       0.90      0.90      0.90       700\n",
      "\n",
      "--------------------------------------------------------------------------------------------------------------\n",
      "Confusion Matrix\n",
      "\n",
      "[[64  0  0  0  0  0  2  1  0  0]\n",
      " [ 1 60  3  0  2  2  2  0  1  0]\n",
      " [ 0  0 54  0  0  3  0  2  2  1]\n",
      " [ 0  0  0 66  1  1  0  1  0  0]\n",
      " [ 0  0  0  0 63  2  1  0  1  0]\n",
      " [ 0  1  3  0  0 66  0  2  0  1]\n",
      " [ 0  1  2  0  3  0 76  0  1  1]\n",
      " [ 3  1  0  1  0  0  2 59  1  0]\n",
      " [ 1  0  2  1  1  0  2  0 65  1]\n",
      " [ 1  1  0  1  0  2  3  2  0 57]]\n"
     ]
    }
   ],
   "source": [
    "print(\"Classification Report:\\n\")\n",
    "print(classification_report(y_true, y_pred))\n",
    "print(\"-\"*110)\n",
    "print(\"Confusion Matrix\\n\")\n",
    "print(confusion_matrix(y_true, y_pred))"
   ]
  },
  {
   "cell_type": "code",
   "execution_count": null,
   "id": "163508f4",
   "metadata": {},
   "outputs": [],
   "source": [
    "# saved the model in models dir\n",
    "os.makedirs('models', exist_ok=True)\n",
    "torch.save(model_ffnn.state_dict(), 'models/model_ffnn.pkl')"
   ]
  },
  {
   "cell_type": "code",
   "execution_count": null,
   "id": "ccd4bdc9",
   "metadata": {},
   "outputs": [
    {
     "data": {
      "image/png": "[encoded data removed]",
      "text/plain": [
       "<Figure size 1200x800 with 1 Axes>"
      ]
     },
     "metadata": {},
     "output_type": "display_data"
    }
   ],
   "source": [
    "# plotted training vs validation loss of my feed forward network\n",
    "plt.figure(figsize=(12, 8))\n",
    "plt.subplot(2, 1, 1)\n",
    "epochs = range(1, len(train_losses) + 1)\n",
    "plt.plot(epochs, train_losses, 'b-o', label='Training Loss', linewidth=2, markersize=6)\n",
    "plt.plot(epochs, val_losses, 'r-s', label='Validation Loss', linewidth=2, markersize=6)\n",
    "plt.title('Training vs Validation Loss', fontweight='bold')\n",
    "plt.xlabel('Epochs')\n",
    "plt.ylabel('Loss')\n",
    "plt.legend()\n",
    "plt.grid(True, alpha=0.3)\n",
    "\n",
    "plt.tight_layout()\n",
    "plt.suptitle('Feedforward Neural Network Training Metrics', fontweight='bold', y=1.02)\n",
    "plt.show()\n"
   ]
  },
  {
   "cell_type": "markdown",
   "id": "7d15897d",
   "metadata": {},
   "source": [
    "#### Long-Short term memory"
   ]
  },
  {
   "cell_type": "code",
   "execution_count": null,
   "id": "778b052b",
   "metadata": {},
   "outputs": [
    {
     "name": "stdout",
     "output_type": "stream",
     "text": [
      "torch.Size([3500, 20, 100])\n"
     ]
    }
   ],
   "source": [
    "# Reused the same padded Word2Vec embeddings as the LSTM input tensor\n",
    "x_lstm = get_embedding_matrix(sentences, w2v_model, max_len)\n",
    "print(x_lstm.shape)"
   ]
  },
  {
   "cell_type": "code",
   "execution_count": null,
   "id": "d6d561ff",
   "metadata": {},
   "outputs": [],
   "source": [
    "# used the same label encoded y\n",
    "y_lstm = torch.tensor(y, dtype=torch.long)"
   ]
  },
  {
   "cell_type": "code",
   "execution_count": null,
   "id": "220221f6",
   "metadata": {},
   "outputs": [],
   "source": [
    "# splitted the data\n",
    "x_lstm_train, x_lstm_val, y_lstm_train, y_lstm_val = train_test_split(\n",
    "    x_lstm, y_lstm, test_size=0.2, random_state=42\n",
    ")"
   ]
  },
  {
   "cell_type": "code",
   "execution_count": null,
   "id": "e5709e58",
   "metadata": {},
   "outputs": [],
   "source": [
    "# Defined a custom PyTorch Dataset and DataLoader for LSTM input\n",
    "class ComplaintDataset(Dataset):\n",
    "    def __init__(self, X, y):\n",
    "        self.X = X\n",
    "        self.y = y\n",
    "    def __len__(self):\n",
    "        return len(self.X)\n",
    "    def __getitem__(self, idx):\n",
    "        return self.X[idx], self.y[idx]\n",
    "\n",
    "train_ds_lstm = ComplaintDataset(x_lstm_train, y_lstm_train)\n",
    "val_ds_lstm = ComplaintDataset(x_lstm_val, y_lstm_val)\n",
    "\n",
    "train_loader_lstm = DataLoader(train_ds_lstm, batch_size=32, shuffle=True)\n",
    "val_loader_lstm = DataLoader(val_ds_lstm, batch_size=32)\n"
   ]
  },
  {
   "cell_type": "code",
   "execution_count": null,
   "id": "e15029a3",
   "metadata": {},
   "outputs": [],
   "source": [
    "# Used Bidirectional LSTM classifier with dropout and two fully-connected layers\n",
    "class EnhancedLSTMClassifier(nn.Module):\n",
    "    def __init__(self, input_dim, hidden_dim, output_dim, dropout=0.5, num_layers=2):\n",
    "        super().__init__()\n",
    "        self.lstm = nn.LSTM(\n",
    "            input_size=input_dim, \n",
    "            hidden_size=hidden_dim,\n",
    "            num_layers=num_layers, \n",
    "            dropout=dropout, \n",
    "            batch_first=True, \n",
    "            bidirectional=True\n",
    "        )\n",
    "        self.dropout = nn.Dropout(dropout)\n",
    "        self.fc1 = nn.Linear(hidden_dim * 2, hidden_dim)\n",
    "        self.relu = nn.ReLU()\n",
    "        self.fc2 = nn.Linear(hidden_dim, output_dim)\n",
    "\n",
    "    def forward(self, x):\n",
    "        _, (hidden, _) = self.lstm(x)\n",
    "        hidden_cat = torch.cat((hidden[-2,:,:], hidden[-1,:,:]), dim=1)\n",
    "        out = self.dropout(hidden_cat)\n",
    "        out = self.relu(self.fc1(out))\n",
    "        out = self.fc2(out)\n",
    "        return out"
   ]
  },
  {
   "cell_type": "code",
   "execution_count": null,
   "id": "f19c70b0",
   "metadata": {},
   "outputs": [],
   "source": [
    "# Initialize enhanced LSTM model\n",
    "model_lstm = EnhancedLSTMClassifier(\n",
    "    input_dim=x_lstm.shape[2],\n",
    "    hidden_dim=128,\n",
    "    output_dim=len(torch.unique(y_lstm))\n",
    ").to(device)"
   ]
  },
  {
   "cell_type": "code",
   "execution_count": null,
   "id": "75fe6b18",
   "metadata": {},
   "outputs": [],
   "source": [
    "# I initialized these custom weights so that the lower biased classes get considered\n",
    "manual_weights = torch.ones(len(encoder.classes_))\n",
    "manual_weights = torch.ones(len(encoder.classes_))\n",
    "manual_weights[encoder.transform(['Failed Delivery'])[0]] = 2.0\n",
    "manual_weights[encoder.transform(['Delivery Delay'])[0]] = 1.5\n",
    "manual_weights[encoder.transform(['Tracking Issue'])[0]] = 1.5"
   ]
  },
  {
   "cell_type": "code",
   "execution_count": null,
   "id": "b1c41878",
   "metadata": {},
   "outputs": [
    {
     "data": {
      "text/plain": [
       "tensor(0.)"
      ]
     },
     "execution_count": 160,
     "metadata": {},
     "output_type": "execute_result"
    }
   ],
   "source": [
    "# Defined weighted loss to handle class imbalance, Adam optimizer with L2 regularization. \n",
    "loss_fn_lstm = nn.CrossEntropyLoss(weight=manual_weights.to(device))\n",
    "optimizer_lstm = torch.optim.Adam(model_lstm.parameters(), lr=1e-3, weight_decay=1e-4)"
   ]
  },
  {
   "cell_type": "code",
   "execution_count": null,
   "id": "8e119d07",
   "metadata": {},
   "outputs": [
    {
     "name": "stdout",
     "output_type": "stream",
     "text": [
      "Epoch 1 | Train Loss: 1.9113 | Val Loss: 1.2325\n",
      "Epoch 2 | Train Loss: 1.1894 | Val Loss: 0.9197\n",
      "Epoch 3 | Train Loss: 0.9072 | Val Loss: 0.7382\n",
      "Epoch 4 | Train Loss: 0.7612 | Val Loss: 0.6533\n",
      "Epoch 5 | Train Loss: 0.6833 | Val Loss: 0.6018\n",
      "Epoch 6 | Train Loss: 0.6370 | Val Loss: 0.5635\n",
      "Epoch 7 | Train Loss: 0.6095 | Val Loss: 0.5823\n",
      "Epoch 8 | Train Loss: 0.5898 | Val Loss: 0.5709\n",
      "Epoch 9 | Train Loss: 0.5637 | Val Loss: 0.5725\n",
      "Epoch 10 | Train Loss: 0.5613 | Val Loss: 0.5551\n"
     ]
    }
   ],
   "source": [
    "# trained and valuated the model here \n",
    "num_epochs_lstm = 10\n",
    "lstm_train_loss_list = []\n",
    "lstm_val_loss_list = []\n",
    "lowest_val_loss = float('inf')\n",
    "\n",
    "for ep in range(num_epochs_lstm):\n",
    "    model_lstm.train()\n",
    "    total_train_loss = 0.0\n",
    "    all_train_preds = []\n",
    "    all_train_labels = []\n",
    "\n",
    "    for xb, yb in train_loader_lstm:\n",
    "        xb, yb = xb.to(device).float(), yb.to(device)\n",
    "\n",
    "        optimizer_lstm.zero_grad()\n",
    "        logits = model_lstm(xb)\n",
    "        loss = loss_fn_lstm(logits, yb)\n",
    "        loss.backward()\n",
    "        optimizer_lstm.step()\n",
    "\n",
    "        total_train_loss += loss.item()\n",
    "        all_train_preds.extend(torch.argmax(logits, dim=1).cpu().numpy())\n",
    "        all_train_labels.extend(yb.cpu().numpy())\n",
    "\n",
    "    avg_lstm_train_loss = total_train_loss / len(train_loader_lstm)\n",
    "    lstm_train_loss_list.append(avg_lstm_train_loss)\n",
    "\n",
    "    model_lstm.eval()\n",
    "    total_val_loss = 0.0\n",
    "    all_val_preds = []\n",
    "    all_val_labels = []\n",
    "\n",
    "    with torch.no_grad():\n",
    "        for xb, yb in val_loader_lstm:\n",
    "            xb, yb = xb.to(device).float(), yb.to(device)\n",
    "            logits = model_lstm(xb)\n",
    "            loss = loss_fn_lstm(logits, yb)\n",
    "            total_val_loss += loss.item()\n",
    "\n",
    "            all_val_preds.extend(torch.argmax(logits, dim=1).cpu().numpy())\n",
    "            all_val_labels.extend(yb.cpu().numpy())\n",
    "\n",
    "    avg_lstm_val_loss = total_val_loss / len(val_loader_lstm)\n",
    "    lstm_val_loss_list.append(avg_lstm_val_loss)\n",
    "\n",
    "    print(f\"Epoch {ep+1} | Train Loss: {avg_lstm_train_loss:.4f} | Val Loss: {avg_lstm_val_loss:.4f}\")\n",
    "\n",
    "    # Here I Saved the model if the validation loss is improved. \n",
    "    if avg_lstm_val_loss < lowest_val_loss:\n",
    "        lowest_val_loss = avg_lstm_val_loss\n",
    "        torch.save(model_lstm.state_dict(), \"best_lstm_model.pth\")"
   ]
  },
  {
   "cell_type": "code",
   "execution_count": null,
   "id": "22dc4f6f",
   "metadata": {},
   "outputs": [
    {
     "data": {
      "image/png": "[encoded data removed]",
      "text/plain": [
       "<Figure size 1200x800 with 1 Axes>"
      ]
     },
     "metadata": {},
     "output_type": "display_data"
    }
   ],
   "source": [
    "# visualized the trends of losses\n",
    "plt.figure(figsize=(12, 8))\n",
    "plt.subplot(2, 1, 1)\n",
    "\n",
    "epochs_range = range(1, len(lstm_train_loss_list) + 1)\n",
    "plt.plot(epochs_range, lstm_train_loss_list, 'b-o', label='Training Loss', linewidth=2, markersize=6)\n",
    "plt.plot(epochs_range, lstm_val_loss_list, 'r-s', label='Validation Loss', linewidth=2, markersize=6)\n",
    "\n",
    "plt.title('Training vs Validation Loss', fontweight='bold', x=0.5)\n",
    "plt.xlabel('Epochs')\n",
    "plt.ylabel('Loss')\n",
    "plt.legend()\n",
    "plt.grid(True, alpha=0.3)\n",
    "\n",
    "plt.tight_layout()\n",
    "plt.suptitle('LSTM Model Training Metrics', fontweight='bold', x=0.52, y=1.02)\n",
    "plt.show()"
   ]
  },
  {
   "cell_type": "markdown",
   "id": "331ae522",
   "metadata": {},
   "source": [
    "#### Evaluation"
   ]
  },
  {
   "cell_type": "code",
   "execution_count": null,
   "id": "349560c9",
   "metadata": {},
   "outputs": [],
   "source": [
    "# took the best model which is saved in .pth file \n",
    "# and got the predictions by validation\n",
    "model_lstm.load_state_dict(torch.load(\"best_lstm_model.pth\"))\n",
    "model_lstm.eval()\n",
    "\n",
    "preds, labels = [], []\n",
    "with torch.no_grad():\n",
    "    for X, y in val_loader_lstm:\n",
    "        X, y = X.to(device).float(), y.to(device)\n",
    "        out = model_lstm(X)\n",
    "        preds += torch.argmax(out, 1).cpu().tolist()\n",
    "        labels += y.cpu().tolist()\n"
   ]
  },
  {
   "cell_type": "code",
   "execution_count": 164,
   "id": "120052c3",
   "metadata": {},
   "outputs": [
    {
     "name": "stdout",
     "output_type": "stream",
     "text": [
      "Accuracy: 0.9\n"
     ]
    }
   ],
   "source": [
    "print(\"Accuracy:\", round(accuracy_score(labels, preds), 2))"
   ]
  },
  {
   "cell_type": "code",
   "execution_count": 165,
   "id": "80bd6857",
   "metadata": {},
   "outputs": [
    {
     "name": "stdout",
     "output_type": "stream",
     "text": [
      "                       precision    recall  f1-score   support\n",
      "\n",
      "        Booking Issue       0.91      0.94      0.93        67\n",
      "     Customer Service       0.94      0.86      0.90        71\n",
      "       Damaged Parcel       0.84      0.87      0.86        62\n",
      "       Delivery Delay       0.96      0.94      0.95        69\n",
      "      Failed Delivery       0.89      0.94      0.91        67\n",
      "     Misplaced Parcel       0.87      0.92      0.89        73\n",
      "         Overcharging       0.87      0.92      0.89        84\n",
      "Service Quality Issue       0.90      0.90      0.90        67\n",
      "       Tracking Issue       0.92      0.89      0.90        73\n",
      "       Wrong Delivery       0.95      0.84      0.89        67\n",
      "\n",
      "             accuracy                           0.90       700\n",
      "            macro avg       0.90      0.90      0.90       700\n",
      "         weighted avg       0.90      0.90      0.90       700\n",
      "\n",
      "--------------------------------------------------------------------------------------------------------------\n",
      "Confusion Matrix\n",
      "[[63  0  0  0  0  1  2  1  0  0]\n",
      " [ 1 61  3  0  2  1  2  0  1  0]\n",
      " [ 0  0 54  0  0  3  0  2  2  1]\n",
      " [ 0  1  0 65  1  1  0  1  0  0]\n",
      " [ 0  0  0  0 63  2  1  0  1  0]\n",
      " [ 0  1  3  0  0 67  0  1  0  1]\n",
      " [ 0  1  2  0  3  0 77  0  1  0]\n",
      " [ 3  0  0  1  0  0  2 60  1  0]\n",
      " [ 1  0  2  1  1  0  2  0 65  1]\n",
      " [ 1  1  0  1  1  2  3  2  0 56]]\n"
     ]
    }
   ],
   "source": [
    "print(classification_report(labels, preds, target_names=encoder.classes_))\n",
    "print('-'*110)\n",
    "print(\"Confusion Matrix\")\n",
    "print(confusion_matrix(labels, preds))"
   ]
  },
  {
   "cell_type": "code",
   "execution_count": null,
   "id": "f0a578ed",
   "metadata": {},
   "outputs": [],
   "source": [
    "# Saved the model in models directory\n",
    "torch.save(model_lstm.state_dict(), 'models/model_lstm.pkl')"
   ]
  },
  {
   "cell_type": "markdown",
   "id": "d7daf3b5",
   "metadata": {},
   "source": [
    "#### Custom Complaints"
   ]
  },
  {
   "cell_type": "code",
   "execution_count": 176,
   "id": "18e8c1b7",
   "metadata": {},
   "outputs": [
    {
     "name": "stdout",
     "output_type": "stream",
     "text": [
      "FFNN Model Predictions:\n",
      "==================================================\n",
      "Complaint: My package was left in the rain and all contents were damaged.\n",
      "Predicted Category: Damaged Parcel\n",
      "------------------------------------------------------------------------------------------------------------------------\n",
      "Complaint: DTDC delivered my package to the wrong address and now it's lost.\n",
      "Predicted Category: Wrong Delivery\n",
      "------------------------------------------------------------------------------------------------------------------------\n",
      "Complaint: I've been on hold with DTDC customer service for over 45 minutes without any response.\n",
      "Predicted Category: Customer Service\n",
      "------------------------------------------------------------------------------------------------------------------------\n",
      "Complaint: No one responds to emails or calls regarding my missing parcel.\n",
      "Predicted Category: Misplaced Parcel\n",
      "------------------------------------------------------------------------------------------------------------------------\n",
      "Complaint: Unable to track my package as the website keeps showing error code 404.\n",
      "Predicted Category: Damaged Parcel\n",
      "------------------------------------------------------------------------------------------------------------------------\n",
      "Complaint: Tracking information hasn't been updated in 7 days.\n",
      "Predicted Category: Tracking Issue\n",
      "------------------------------------------------------------------------------------------------------------------------\n",
      "Complaint: DTDC representative at the collection center was very rude to me.\n",
      "Predicted Category: Service Quality Issue\n",
      "------------------------------------------------------------------------------------------------------------------------\n",
      "Complaint: DTDC missed their guaranteed 48-hour delivery window by 5 days.\n",
      "Predicted Category: Misplaced Parcel\n",
      "------------------------------------------------------------------------------------------------------------------------\n",
      "Complaint: Website doesn't work properly.\n",
      "Predicted Category: Booking Issue\n",
      "------------------------------------------------------------------------------------------------------------------------\n",
      "Complaint: The packaging was damaged and items were missing when I received my delivery.\n",
      "Predicted Category: Damaged Parcel\n",
      "------------------------------------------------------------------------------------------------------------------------\n",
      "Complaint: I paid extra for insurance but DTDC refuses to compensate for the damaged goods.\n",
      "Predicted Category: Overcharging\n",
      "------------------------------------------------------------------------------------------------------------------------\n"
     ]
    }
   ],
   "source": [
    "# Converted complaint text into a list of clean tokens\n",
    "def preprocess(text):\n",
    "    text = text.lower()\n",
    "    text = re.sub(r\"[^\\w\\s]\", \"\", text)\n",
    "    tokens = word_tokenize(text)\n",
    "    return tokens\n",
    "\n",
    "# here I embedded words and computed the engineered features and added \n",
    "# embeddings to the scaled features \n",
    "def sentence_to_ffnn_tensor(sentence, model,scaler, max_len=20, embed_dim=100):\n",
    "    tokens = word_tokenize(re.sub(r\"[^\\w\\s]\", \"\", sentence.lower()))\n",
    "    vecs = [torch.tensor(model.wv[w]) for w in tokens if w in model.wv][:max_len]\n",
    "    vecs += [torch.zeros(embed_dim)] * (max_len - len(vecs))\n",
    "    embed_part = torch.cat(vecs).unsqueeze(0)\n",
    "    text_len = len(sentence)\n",
    "    punct_pct = len(re.findall(r\"[^\\w\\s]\", sentence)) / text_len * 100\n",
    "    feat_df   = pd.DataFrame([[text_len, punct_pct]],\n",
    "                             columns=['text_len', 'punctuation_percent'])\n",
    "    scalar_part = torch.tensor(scaler.transform(feat_df),\n",
    "                               dtype=torch.float32)    \n",
    "    return torch.cat([embed_part, scalar_part], dim=1)\n",
    "# Checked with these examples\n",
    "test_complaints = [\n",
    "    \"My package was left in the rain and all contents were damaged.\",\n",
    "    \"DTDC delivered my package to the wrong address and now it's lost.\",\n",
    "    \"I've been on hold with DTDC customer service for over 45 minutes without any response.\",\n",
    "    \"No one responds to emails or calls regarding my missing parcel.\",\n",
    "    \"Unable to track my package as the website keeps showing error code 404.\",\n",
    "    \"Tracking information hasn't been updated in 7 days.\",\n",
    "    \"DTDC representative at the collection center was very rude to me.\",\n",
    "    \"DTDC missed their guaranteed 48-hour delivery window by 5 days.\",\n",
    "    \"Website doesn't work properly.\",\n",
    "    \"The packaging was damaged and items were missing when I received my delivery.\",\n",
    "    \"I paid extra for insurance but DTDC refuses to compensate for the damaged goods.\",\n",
    "]\n",
    "\n",
    "model_ffnn.eval()\n",
    "print(\"FFNN Model Predictions:\")\n",
    "print(\"=\"*50)\n",
    "\n",
    "for complaint in test_complaints:\n",
    "    x_test = sentence_to_ffnn_tensor(complaint, w2v_model, scaler)  # ← pass scaler\n",
    "    with torch.no_grad():\n",
    "        pred_logits = model_ffnn(x_test)\n",
    "        pred_idx    = torch.argmax(pred_logits, dim=1).item()\n",
    "        label       = encoder.inverse_transform([pred_idx])[0]\n",
    "    print(f\"Complaint: {complaint}\")\n",
    "    print(f\"Predicted Category: {label}\")\n",
    "    print(\"-\"*120)\n"
   ]
  },
  {
   "cell_type": "code",
   "execution_count": null,
   "id": "ee40cb94",
   "metadata": {},
   "outputs": [
    {
     "name": "stdout",
     "output_type": "stream",
     "text": [
      "LSTM Model Predictions:\n",
      "==================================================\n",
      "Complaint: My package was left in the rain and all contents were damaged.\n",
      "Predicted Category: Damaged Parcel\n",
      "------------------------------------------------------------------------------------------------------------------------\n",
      "Complaint: DTDC delivered my package to the wrong address and now it's lost.\n",
      "Predicted Category: Wrong Delivery\n",
      "------------------------------------------------------------------------------------------------------------------------\n",
      "Complaint: I've been on hold with DTDC customer service for over 45 minutes without any response.\n",
      "Predicted Category: Customer Service\n",
      "------------------------------------------------------------------------------------------------------------------------\n",
      "Complaint: No one responds to emails or calls regarding my missing parcel.\n",
      "Predicted Category: Misplaced Parcel\n",
      "------------------------------------------------------------------------------------------------------------------------\n",
      "Complaint: Unable to track my package as the website keeps showing error code 404.\n",
      "Predicted Category: Tracking Issue\n",
      "------------------------------------------------------------------------------------------------------------------------\n",
      "Complaint: Tracking information hasn't been updated in 7 days.\n",
      "Predicted Category: Tracking Issue\n",
      "------------------------------------------------------------------------------------------------------------------------\n",
      "Complaint: DTDC representative at the collection center was very rude to me.\n",
      "Predicted Category: Service Quality Issue\n",
      "------------------------------------------------------------------------------------------------------------------------\n",
      "Complaint: DTDC missed their guaranteed 48-hour delivery window by 5 days.\n",
      "Predicted Category: Delivery Delay\n",
      "------------------------------------------------------------------------------------------------------------------------\n",
      "Complaint: Website doesn't work properly.\n",
      "Predicted Category: Booking Issue\n",
      "------------------------------------------------------------------------------------------------------------------------\n",
      "Complaint: The packaging was damaged and items were missing when I received my delivery.\n",
      "Predicted Category: Damaged Parcel\n",
      "------------------------------------------------------------------------------------------------------------------------\n",
      "Complaint: I paid extra for insurance but DTDC refuses to compensate for the damaged goods.\n",
      "Predicted Category: Overcharging\n",
      "------------------------------------------------------------------------------------------------------------------------\n"
     ]
    }
   ],
   "source": [
    "# here I converted raw complaints to fixed‐length embedding tensors and \n",
    "# predicted categories with the trained model.\n",
    "def sentence_to_lstm_tensor(sentence, model, max_len=20, embed_dim=100):\n",
    "    tokens = word_tokenize(re.sub(r\"[^\\w\\s]\", \"\", sentence.lower()))\n",
    "    vecs = []\n",
    "    for word in tokens:\n",
    "        if word in model.wv:\n",
    "            vecs.append(torch.tensor(model.wv[word]))\n",
    "    if len(vecs) > max_len:\n",
    "        vecs = vecs[:max_len]\n",
    "    elif len(vecs) < max_len:\n",
    "        pad_len = max_len - len(vecs)\n",
    "        vecs.extend([torch.zeros(embed_dim)] * pad_len)\n",
    "    stacked_vecs = torch.stack(vecs)\n",
    "    return stacked_vecs.unsqueeze(0)\n",
    "\n",
    "# Loaded the best LSTM model which is in .pth file\n",
    "model_lstm.load_state_dict(torch.load(\"best_lstm_model.pth\"))\n",
    "model_lstm.eval()\n",
    "\n",
    "# predictions are made here\n",
    "print(\"LSTM Model Predictions:\")\n",
    "print(\"=\"*50)\n",
    "\n",
    "for complaint in test_complaints:\n",
    "    x_test = sentence_to_lstm_tensor(complaint, w2v_model)\n",
    "    with torch.no_grad():\n",
    "        pred_logits = model_lstm(x_test)\n",
    "        pred_idx = torch.argmax(pred_logits, dim=1).item()\n",
    "        label = encoder.inverse_transform([pred_idx])[0]\n",
    "    \n",
    "    print(f\"Complaint: {complaint}\")\n",
    "    print(f\"Predicted Category: {label}\")\n",
    "    print(\"-\"*120)"
   ]
  },
  {
   "cell_type": "markdown",
   "id": "be140f56",
   "metadata": {},
   "source": [
    "## MODEL PERFORMANCE REPORT\n",
    "\n",
    "### 1. FEED-FORWARD NEURAL NETWORK (FFNN)\n",
    "- **Architecture**: Single linear layer (2002 → 10)\n",
    "- **Input Features**: Word2Vec embeddings + engineered features\n",
    "- **Training Epochs**: 10  \n",
    "- **Optimizer**: Adam (lr=1e-3, weight_decay=1e-4)\n",
    "\n",
    "**Validation Accuracy**: 0.9000  \n",
    "**Final Training Loss**: 0.6427  \n",
    "**Final Validation Loss**: 0.6686\n",
    "\n",
    "\n",
    "### 2. LSTM CLASSIFIER\n",
    "- **Architecture**: Bidirectional LSTM + 2 Fully Connected layers  \n",
    "- **Hidden Dimensions**: 128  \n",
    "- **Dropout Rate**: 0.5  \n",
    "- **Class Weights**: Applied to handle class imbalance  \n",
    "- **Training Epochs**: 10  \n",
    "\n",
    "**Validation Accuracy**: 0.9014  \n",
    "**Final Training Loss**: 0.5613  \n",
    "**Final Validation Loss**: 0.5551\n",
    "\n",
    "\n",
    "### 3. COMPARISON SUMMARY\n",
    "- **FFNN Accuracy**: 0.9000  \n",
    "- **LSTM Accuracy**: 0.9014  \n",
    "- **Performance Difference**: +0.0014\n",
    "\n",
    "**Conclusion**: *LSTM outperforms FFNN in validation accuracy.*\n",
    "\n",
    "\n",
    "### Final Notes:\n",
    "- Both models effectively classify DTDC customer complaints into **10 categories**.\n",
    "- Trained models are stored in the models/ directory.\n"
   ]
  },
  {
   "cell_type": "code",
   "execution_count": null,
   "id": "f6c95b30",
   "metadata": {},
   "outputs": [],
   "source": []
  }
 ],
 "metadata": {
  "kernelspec": {
   "display_name": "base",
   "language": "python",
   "name": "python3"
  },
  "language_info": {
   "codemirror_mode": {
    "name": "ipython",
    "version": 3
   },
   "file_extension": ".py",
   "mimetype": "text/x-python",
   "name": "python",
   "nbconvert_exporter": "python",
   "pygments_lexer": "ipython3",
   "version": "3.12.3"
  }
 },
 "nbformat": 4,
 "nbformat_minor": 5
}
