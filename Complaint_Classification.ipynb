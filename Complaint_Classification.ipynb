{
 "cells": [
  {
   "cell_type": "code",
   "execution_count": 93,
   "id": "27acea7a",
   "metadata": {},
   "outputs": [],
   "source": [
    "# imported all the required libraries\n",
    "import numpy as np\n",
    "import pandas as pd\n",
    "from sklearn.preprocessing import StandardScaler, LabelEncoder\n",
    "from sklearn.model_selection import train_test_split\n",
    "from sklearn.metrics import accuracy_score, classification_report, confusion_matrix\n",
    "import torch \n",
    "import torch.nn as nn\n",
    "import torch.nn.functional as F\n",
    "import random\n",
    "import re\n",
    "import nltk\n",
    "from nltk.corpus import stopwords\n",
    "from nltk import WordNetLemmatizer\n",
    "from nltk.tokenize import word_tokenize\n",
    "from gensim.models import Word2Vec\n",
    "from string import punctuation\n",
    "from torch.utils.data import Dataset, DataLoader\n",
    "from sklearn.utils.class_weight import compute_class_weight\n",
    "import matplotlib.pyplot as plt\n",
    "import pickle"
   ]
  },
  {
   "cell_type": "markdown",
   "id": "2978ab2b",
   "metadata": {},
   "source": [
    "#### Data Loading"
   ]
  },
  {
   "cell_type": "code",
   "execution_count": 80,
   "id": "8a053ef9",
   "metadata": {},
   "outputs": [
    {
     "data": {
      "text/html": [
       "<div>\n",
       "<style scoped>\n",
       "    .dataframe tbody tr th:only-of-type {\n",
       "        vertical-align: middle;\n",
       "    }\n",
       "\n",
       "    .dataframe tbody tr th {\n",
       "        vertical-align: top;\n",
       "    }\n",
       "\n",
       "    .dataframe thead th {\n",
       "        text-align: right;\n",
       "    }\n",
       "</style>\n",
       "<table border=\"1\" class=\"dataframe\">\n",
       "  <thead>\n",
       "    <tr style=\"text-align: right;\">\n",
       "      <th></th>\n",
       "      <th>Complaint Text</th>\n",
       "      <th>Category</th>\n",
       "    </tr>\n",
       "  </thead>\n",
       "  <tbody>\n",
       "    <tr>\n",
       "      <th>0</th>\n",
       "      <td>Support team ignored my issue.</td>\n",
       "      <td>Service Quality Issue</td>\n",
       "    </tr>\n",
       "    <tr>\n",
       "      <th>1</th>\n",
       "      <td>Wrong address printed.</td>\n",
       "      <td>Booking Issue</td>\n",
       "    </tr>\n",
       "    <tr>\n",
       "      <th>2</th>\n",
       "      <td>Delivery attempt was not made.</td>\n",
       "      <td>Failed Delivery</td>\n",
       "    </tr>\n",
       "    <tr>\n",
       "      <th>3</th>\n",
       "      <td>App crashes during booking.</td>\n",
       "      <td>Booking Issue</td>\n",
       "    </tr>\n",
       "    <tr>\n",
       "      <th>4</th>\n",
       "      <td>Repeated failed delivery attempts without cont...</td>\n",
       "      <td>Failed Delivery</td>\n",
       "    </tr>\n",
       "    <tr>\n",
       "      <th>5</th>\n",
       "      <td>Support promised a call back that never came.</td>\n",
       "      <td>Customer Service</td>\n",
       "    </tr>\n",
       "    <tr>\n",
       "      <th>6</th>\n",
       "      <td>Took more than 10 days to deliver.</td>\n",
       "      <td>Delivery Delay</td>\n",
       "    </tr>\n",
       "    <tr>\n",
       "      <th>7</th>\n",
       "      <td>Support promised a call back that never came.</td>\n",
       "      <td>Customer Service</td>\n",
       "    </tr>\n",
       "    <tr>\n",
       "      <th>8</th>\n",
       "      <td>Electronics arrived damaged.</td>\n",
       "      <td>Damaged Parcel</td>\n",
       "    </tr>\n",
       "    <tr>\n",
       "      <th>9</th>\n",
       "      <td>The shipment was held at the local office for ...</td>\n",
       "      <td>Delivery Delay</td>\n",
       "    </tr>\n",
       "  </tbody>\n",
       "</table>\n",
       "</div>"
      ],
      "text/plain": [
       "                                      Complaint Text               Category\n",
       "0                     Support team ignored my issue.  Service Quality Issue\n",
       "1                             Wrong address printed.          Booking Issue\n",
       "2                     Delivery attempt was not made.        Failed Delivery\n",
       "3                        App crashes during booking.          Booking Issue\n",
       "4  Repeated failed delivery attempts without cont...        Failed Delivery\n",
       "5      Support promised a call back that never came.       Customer Service\n",
       "6                 Took more than 10 days to deliver.         Delivery Delay\n",
       "7      Support promised a call back that never came.       Customer Service\n",
       "8                       Electronics arrived damaged.         Damaged Parcel\n",
       "9  The shipment was held at the local office for ...         Delivery Delay"
      ]
     },
     "execution_count": 80,
     "metadata": {},
     "output_type": "execute_result"
    }
   ],
   "source": [
    "# This file contains the DTDC courier customer complaints \n",
    "data = pd.read_excel('DTDC_Complaints_Dataset.xlsx')\n",
    "data.head(10)"
   ]
  },
  {
   "cell_type": "code",
   "execution_count": 81,
   "id": "48f39d70",
   "metadata": {},
   "outputs": [
    {
     "name": "stdout",
     "output_type": "stream",
     "text": [
      "<class 'pandas.core.frame.DataFrame'>\n",
      "RangeIndex: 3500 entries, 0 to 3499\n",
      "Data columns (total 2 columns):\n",
      " #   Column          Non-Null Count  Dtype \n",
      "---  ------          --------------  ----- \n",
      " 0   Complaint Text  3500 non-null   object\n",
      " 1   Category        3500 non-null   object\n",
      "dtypes: object(2)\n",
      "memory usage: 54.8+ KB\n"
     ]
    }
   ],
   "source": [
    "data.info()"
   ]
  },
  {
   "cell_type": "code",
   "execution_count": 82,
   "id": "65f77426",
   "metadata": {},
   "outputs": [
    {
     "data": {
      "text/plain": [
       "Category\n",
       "Service Quality Issue    381\n",
       "Tracking Issue           368\n",
       "Booking Issue            351\n",
       "Customer Service         351\n",
       "Delivery Delay           351\n",
       "Failed Delivery          350\n",
       "Overcharging             349\n",
       "Damaged Parcel           333\n",
       "Wrong Delivery           333\n",
       "Misplaced Parcel         333\n",
       "Name: count, dtype: int64"
      ]
     },
     "execution_count": 82,
     "metadata": {},
     "output_type": "execute_result"
    }
   ],
   "source": [
    "data['Category'].value_counts()"
   ]
  },
  {
   "cell_type": "code",
   "execution_count": 83,
   "id": "90780e0b",
   "metadata": {},
   "outputs": [
    {
     "data": {
      "text/plain": [
       "350.0"
      ]
     },
     "execution_count": 83,
     "metadata": {},
     "output_type": "execute_result"
    }
   ],
   "source": [
    "data['Category'].value_counts().to_numpy().mean()"
   ]
  },
  {
   "cell_type": "markdown",
   "id": "43913372",
   "metadata": {},
   "source": [
    "#### Text Processing"
   ]
  },
  {
   "cell_type": "markdown",
   "id": "a2480a4a",
   "metadata": {},
   "source": [
    "The text processing steps I took are \n",
    "1. Removing punctuations from the text.\n",
    "2. Tokenizing the sentences into words.\n",
    "3. Removing stopwords.\n",
    "4. Performing Lemmatization"
   ]
  },
  {
   "cell_type": "code",
   "execution_count": null,
   "id": "026bafa4",
   "metadata": {},
   "outputs": [],
   "source": [
    "# Here all the preprocessing is done\n",
    "def data_preprocessing(text):\n",
    "    text = \"\".join([char for char in text if char not in punctuation])\n",
    "    text = re.split(\" \", text.lower())\n",
    "    text = [word for word in text if word not in stopwords.words('english')]\n",
    "    text = [WordNetLemmatizer().lemmatize(word) for word in text]\n",
    "    return text"
   ]
  },
  {
   "cell_type": "code",
   "execution_count": 85,
   "id": "720e75b8",
   "metadata": {},
   "outputs": [],
   "source": [
    "# Here I took the column in which all the data was cleaned and tokenized\n",
    "data['Cleaned_Complaint_text'] = data['Complaint Text'].apply(lambda x : data_preprocessing(x))"
   ]
  },
  {
   "cell_type": "code",
   "execution_count": 86,
   "id": "b463ab9c",
   "metadata": {},
   "outputs": [],
   "source": [
    "# here I extracted all unique words from the complaint sentences\n",
    "sentences = data['Cleaned_Complaint_text']\n",
    "vocabulary = []\n",
    "for sentence in sentences:\n",
    "    vocabulary.extend(sentence)\n",
    "vocabulary = list(set(vocabulary))"
   ]
  },
  {
   "cell_type": "code",
   "execution_count": 89,
   "id": "3a497449",
   "metadata": {},
   "outputs": [
    {
     "data": {
      "text/plain": [
       "['meant',\n",
       " 'cooperative',\n",
       " 'went',\n",
       " 'note',\n",
       " 'know',\n",
       " 'content',\n",
       " 'issue',\n",
       " 'delivered',\n",
       " 'internal',\n",
       " 'despite',\n",
       " 'explanation',\n",
       " 'take',\n",
       " 'invoice',\n",
       " 'unprofessional',\n",
       " 'checkout',\n",
       " 'card',\n",
       " 'product',\n",
       " 'seal',\n",
       " 'one',\n",
       " 'doesnt',\n",
       " 'street',\n",
       " 'updated',\n",
       " 'size',\n",
       " 'week',\n",
       " 'returned',\n",
       " 'match',\n",
       " 'time',\n",
       " 'receiver',\n",
       " 'simple',\n",
       " 'different',\n",
       " 'charge',\n",
       " 'arrive',\n",
       " 'booking',\n",
       " 'caused',\n",
       " 'pin',\n",
       " 'arrived',\n",
       " 'multiple',\n",
       " 'unavailable',\n",
       " 'shattered',\n",
       " 'agent',\n",
       " 'help',\n",
       " 'payment',\n",
       " 'never',\n",
       " 'rude',\n",
       " 'tracking',\n",
       " 'haven’t',\n",
       " 'lost',\n",
       " 'later',\n",
       " 'contacting',\n",
       " 'applied',\n",
       " 'courier',\n",
       " 'local',\n",
       " 'back',\n",
       " 'held',\n",
       " 'arrival',\n",
       " 'info',\n",
       " 'handled',\n",
       " 'app',\n",
       " 'customer',\n",
       " 'complaint',\n",
       " 'glass',\n",
       " 'assistance',\n",
       " 'crashing',\n",
       " 'false',\n",
       " 'parcel',\n",
       " 'estimated',\n",
       " 'consignment',\n",
       " 'team',\n",
       " 'detail',\n",
       " 'got',\n",
       " 'transfer',\n",
       " 'followup',\n",
       " 'shop',\n",
       " 'missing',\n",
       " 'citing',\n",
       " 'still',\n",
       " 'vague',\n",
       " 'upon',\n",
       " 'respond',\n",
       " 'spoiled',\n",
       " 'keep',\n",
       " 'wearing',\n",
       " 'midtransit',\n",
       " 'online',\n",
       " 'item',\n",
       " 'dtdc',\n",
       " 'business',\n",
       " 'confirmation',\n",
       " 'completely',\n",
       " 'used',\n",
       " 'trying',\n",
       " 'address',\n",
       " 'city',\n",
       " 'sent',\n",
       " 'disappeared',\n",
       " 'portal',\n",
       " 'email',\n",
       " 'put',\n",
       " 'cancelled',\n",
       " 'charged',\n",
       " 'mismanagement',\n",
       " 'get',\n",
       " 'else’s',\n",
       " 'device',\n",
       " 'accept',\n",
       " 'gave',\n",
       " 'made',\n",
       " 'weight',\n",
       " 'handed',\n",
       " '10',\n",
       " 'call',\n",
       " 'information',\n",
       " 'delivery',\n",
       " 'available',\n",
       " '2day',\n",
       " 'instead',\n",
       " 'premium',\n",
       " 'incomplete',\n",
       " 'technical',\n",
       " 'picked',\n",
       " 'transit',\n",
       " 'stuck',\n",
       " 'took',\n",
       " 'attempt',\n",
       " 'care',\n",
       " 'live',\n",
       " 'many',\n",
       " 'show',\n",
       " 'received',\n",
       " 'input',\n",
       " 'attempting',\n",
       " 'didn’t',\n",
       " 'disconnected',\n",
       " 'hold',\n",
       " 'id',\n",
       " 'loss',\n",
       " 'unresponsive',\n",
       " 'notice',\n",
       " 'entering',\n",
       " 'delay',\n",
       " 'electronics',\n",
       " 'person',\n",
       " 'idea',\n",
       " 'home',\n",
       " 'missed',\n",
       " 'could',\n",
       " 'mentioned',\n",
       " 'book',\n",
       " 'executive',\n",
       " 'poor',\n",
       " 'informing',\n",
       " 'crash',\n",
       " 'international',\n",
       " 'asked',\n",
       " 'invalid',\n",
       " 'found',\n",
       " 'didnt',\n",
       " 'dissatisfied',\n",
       " 'unhelpful',\n",
       " 'dispatch',\n",
       " 'answer',\n",
       " 'error',\n",
       " 'due',\n",
       " 'torn',\n",
       " 'came',\n",
       " 'dented',\n",
       " 'response',\n",
       " 'collect',\n",
       " 'wont',\n",
       " 'confirmed',\n",
       " 'tracked',\n",
       " 'reply',\n",
       " 'saying',\n",
       " 'amount',\n",
       " 'printed',\n",
       " 'responsibility',\n",
       " 'experience',\n",
       " 'incorrect',\n",
       " 'extra',\n",
       " 'staff',\n",
       " 'reached',\n",
       " 'needed',\n",
       " 'proper',\n",
       " 'right',\n",
       " 'system',\n",
       " 'serviceable',\n",
       " 'crushed',\n",
       " 'visit',\n",
       " 'claimed',\n",
       " 'updating',\n",
       " 'couldn’t',\n",
       " 'inside',\n",
       " 'offline',\n",
       " 'minute',\n",
       " 'office',\n",
       " 'marked',\n",
       " 'promised',\n",
       " 'shipment',\n",
       " 'go',\n",
       " 'update',\n",
       " 'deliver',\n",
       " 'hub',\n",
       " 'communication',\n",
       " 'added',\n",
       " 'electronic',\n",
       " 'prior',\n",
       " 'cant',\n",
       " 'clarification',\n",
       " '5',\n",
       " 'pickup',\n",
       " 'code',\n",
       " 'repeated',\n",
       " 'number',\n",
       " 'paid',\n",
       " 'fee',\n",
       " '30',\n",
       " 'long',\n",
       " 'collected',\n",
       " 'leaking',\n",
       " 'unanswered',\n",
       " 'frequent',\n",
       " 'unable',\n",
       " 'weekend',\n",
       " 'service',\n",
       " 'trace',\n",
       " 'ignored',\n",
       " 'category',\n",
       " 'chat',\n",
       " 'misplaced',\n",
       " 'hidden',\n",
       " 'location',\n",
       " 'delayed',\n",
       " 'unfairly',\n",
       " 'always',\n",
       " 'carelessly',\n",
       " 'without',\n",
       " 'come',\n",
       " 'broken',\n",
       " 'box',\n",
       " 'support',\n",
       " 'website',\n",
       " 'glitch',\n",
       " 'boy',\n",
       " 'day',\n",
       " 'damaged',\n",
       " 'handling',\n",
       " 'express',\n",
       " 'scheduled',\n",
       " 'showed',\n",
       " 'called',\n",
       " 'terrible',\n",
       " 'wrong',\n",
       " 'provide',\n",
       " 'outdated',\n",
       " 'status',\n",
       " 'correct',\n",
       " 'refused',\n",
       " 'packaging',\n",
       " 'receipt',\n",
       " 'double',\n",
       " 'late',\n",
       " 'hasnt',\n",
       " 'unjustified',\n",
       " 'several',\n",
       " 'resolution',\n",
       " 'contact',\n",
       " 'deliverable',\n",
       " 'track',\n",
       " 'someone',\n",
       " 'package',\n",
       " 'failed',\n",
       " 'mismatched',\n",
       " 'provided',\n",
       " 'nearby']"
      ]
     },
     "execution_count": 89,
     "metadata": {},
     "output_type": "execute_result"
    }
   ],
   "source": [
    "vocabulary"
   ]
  },
  {
   "cell_type": "code",
   "execution_count": 90,
   "id": "e68d3d7f",
   "metadata": {},
   "outputs": [
    {
     "data": {
      "text/html": [
       "<div>\n",
       "<style scoped>\n",
       "    .dataframe tbody tr th:only-of-type {\n",
       "        vertical-align: middle;\n",
       "    }\n",
       "\n",
       "    .dataframe tbody tr th {\n",
       "        vertical-align: top;\n",
       "    }\n",
       "\n",
       "    .dataframe thead th {\n",
       "        text-align: right;\n",
       "    }\n",
       "</style>\n",
       "<table border=\"1\" class=\"dataframe\">\n",
       "  <thead>\n",
       "    <tr style=\"text-align: right;\">\n",
       "      <th></th>\n",
       "      <th>Complaint Text</th>\n",
       "      <th>Category</th>\n",
       "      <th>Cleaned_Complaint_text</th>\n",
       "    </tr>\n",
       "  </thead>\n",
       "  <tbody>\n",
       "    <tr>\n",
       "      <th>0</th>\n",
       "      <td>Support team ignored my issue.</td>\n",
       "      <td>Service Quality Issue</td>\n",
       "      <td>[support, team, ignored, issue]</td>\n",
       "    </tr>\n",
       "    <tr>\n",
       "      <th>1</th>\n",
       "      <td>Wrong address printed.</td>\n",
       "      <td>Booking Issue</td>\n",
       "      <td>[wrong, address, printed]</td>\n",
       "    </tr>\n",
       "    <tr>\n",
       "      <th>2</th>\n",
       "      <td>Delivery attempt was not made.</td>\n",
       "      <td>Failed Delivery</td>\n",
       "      <td>[delivery, attempt, made]</td>\n",
       "    </tr>\n",
       "    <tr>\n",
       "      <th>3</th>\n",
       "      <td>App crashes during booking.</td>\n",
       "      <td>Booking Issue</td>\n",
       "      <td>[app, crash, booking]</td>\n",
       "    </tr>\n",
       "    <tr>\n",
       "      <th>4</th>\n",
       "      <td>Repeated failed delivery attempts without cont...</td>\n",
       "      <td>Failed Delivery</td>\n",
       "      <td>[repeated, failed, delivery, attempt, without,...</td>\n",
       "    </tr>\n",
       "    <tr>\n",
       "      <th>...</th>\n",
       "      <td>...</td>\n",
       "      <td>...</td>\n",
       "      <td>...</td>\n",
       "    </tr>\n",
       "    <tr>\n",
       "      <th>3495</th>\n",
       "      <td>DTDC team never picked up the parcel as schedu...</td>\n",
       "      <td>Service Quality Issue</td>\n",
       "      <td>[dtdc, team, never, picked, parcel, scheduled]</td>\n",
       "    </tr>\n",
       "    <tr>\n",
       "      <th>3496</th>\n",
       "      <td>Tracking shows delivered, but I haven’t receiv...</td>\n",
       "      <td>Tracking Issue</td>\n",
       "      <td>[tracking, show, delivered, haven’t, received]</td>\n",
       "    </tr>\n",
       "    <tr>\n",
       "      <th>3497</th>\n",
       "      <td>No one knows where my item is.</td>\n",
       "      <td>Misplaced Parcel</td>\n",
       "      <td>[one, know, item]</td>\n",
       "    </tr>\n",
       "    <tr>\n",
       "      <th>3498</th>\n",
       "      <td>Incorrect invoice amount.</td>\n",
       "      <td>Overcharging</td>\n",
       "      <td>[incorrect, invoice, amount]</td>\n",
       "    </tr>\n",
       "    <tr>\n",
       "      <th>3499</th>\n",
       "      <td>Courier marked delivered but I didn’t get it.</td>\n",
       "      <td>Failed Delivery</td>\n",
       "      <td>[courier, marked, delivered, didn’t, get]</td>\n",
       "    </tr>\n",
       "  </tbody>\n",
       "</table>\n",
       "<p>3500 rows × 3 columns</p>\n",
       "</div>"
      ],
      "text/plain": [
       "                                         Complaint Text  \\\n",
       "0                        Support team ignored my issue.   \n",
       "1                                Wrong address printed.   \n",
       "2                        Delivery attempt was not made.   \n",
       "3                           App crashes during booking.   \n",
       "4     Repeated failed delivery attempts without cont...   \n",
       "...                                                 ...   \n",
       "3495  DTDC team never picked up the parcel as schedu...   \n",
       "3496  Tracking shows delivered, but I haven’t receiv...   \n",
       "3497                     No one knows where my item is.   \n",
       "3498                          Incorrect invoice amount.   \n",
       "3499      Courier marked delivered but I didn’t get it.   \n",
       "\n",
       "                   Category                             Cleaned_Complaint_text  \n",
       "0     Service Quality Issue                    [support, team, ignored, issue]  \n",
       "1             Booking Issue                          [wrong, address, printed]  \n",
       "2           Failed Delivery                          [delivery, attempt, made]  \n",
       "3             Booking Issue                              [app, crash, booking]  \n",
       "4           Failed Delivery  [repeated, failed, delivery, attempt, without,...  \n",
       "...                     ...                                                ...  \n",
       "3495  Service Quality Issue     [dtdc, team, never, picked, parcel, scheduled]  \n",
       "3496         Tracking Issue     [tracking, show, delivered, haven’t, received]  \n",
       "3497       Misplaced Parcel                                  [one, know, item]  \n",
       "3498           Overcharging                       [incorrect, invoice, amount]  \n",
       "3499        Failed Delivery          [courier, marked, delivered, didn’t, get]  \n",
       "\n",
       "[3500 rows x 3 columns]"
      ]
     },
     "execution_count": 90,
     "metadata": {},
     "output_type": "execute_result"
    }
   ],
   "source": [
    "data"
   ]
  },
  {
   "cell_type": "code",
   "execution_count": 91,
   "id": "8184768b",
   "metadata": {},
   "outputs": [],
   "source": [
    "# here also added the noise so that the model generalizes well\n",
    "def add_text_noise(tokenized_text, noise_rate=0.1):\n",
    "    noisy_text = []\n",
    "    for word in tokenized_text:\n",
    "        if random.random() < noise_rate:\n",
    "            if len(word) > 1:\n",
    "                idx = random.randint(0, len(word) - 1)\n",
    "                ch = random.choice('abcdefghijklmnopqrstuvwxyz')\n",
    "                noisy_word = word[:idx] + ch + word[idx+1:]\n",
    "                noisy_text.append(noisy_word)\n",
    "            else:\n",
    "                noisy_text.append(word)\n",
    "        else:\n",
    "            noisy_text.append(word)\n",
    "    return noisy_text\n"
   ]
  },
  {
   "cell_type": "code",
   "execution_count": 92,
   "id": "086e1d1d",
   "metadata": {},
   "outputs": [],
   "source": [
    "data['Noisy_Complaint_Text'] = data['Cleaned_Complaint_text'].apply(lambda x: add_text_noise(x, noise_rate=0.05))"
   ]
  },
  {
   "cell_type": "markdown",
   "id": "9bdc40d7",
   "metadata": {},
   "source": [
    "Feature Engineering"
   ]
  },
  {
   "cell_type": "code",
   "execution_count": null,
   "id": "1b4f998a",
   "metadata": {},
   "outputs": [],
   "source": [
    "# length of characters in a sentence is returned here \n",
    "def len_of_text(text):\n",
    "    return len(\"\".join(text.split()))"
   ]
  },
  {
   "cell_type": "code",
   "execution_count": null,
   "id": "a7e516b5",
   "metadata": {},
   "outputs": [],
   "source": [
    "data['text_len'] = data['Complaint Text'].apply(lambda x: len(\"\".join(x.split())))"
   ]
  },
  {
   "cell_type": "code",
   "execution_count": null,
   "id": "ef5ca701",
   "metadata": {},
   "outputs": [],
   "source": [
    "# Here the punctuations percentage is returned\n",
    "def Punc_per(text):\n",
    "    count = sum([1 for char in text if char in punctuation])\n",
    "    return round(count/(len(text)-text.count(\" \"))*100,3)"
   ]
  },
  {
   "cell_type": "code",
   "execution_count": 16,
   "id": "5919d1bb",
   "metadata": {},
   "outputs": [],
   "source": [
    "data['punctuation_percent'] = data['Complaint Text'].apply(lambda x : Punc_per(x))"
   ]
  },
  {
   "cell_type": "code",
   "execution_count": 17,
   "id": "df393e97",
   "metadata": {},
   "outputs": [
    {
     "data": {
      "text/html": [
       "<div>\n",
       "<style scoped>\n",
       "    .dataframe tbody tr th:only-of-type {\n",
       "        vertical-align: middle;\n",
       "    }\n",
       "\n",
       "    .dataframe tbody tr th {\n",
       "        vertical-align: top;\n",
       "    }\n",
       "\n",
       "    .dataframe thead th {\n",
       "        text-align: right;\n",
       "    }\n",
       "</style>\n",
       "<table border=\"1\" class=\"dataframe\">\n",
       "  <thead>\n",
       "    <tr style=\"text-align: right;\">\n",
       "      <th></th>\n",
       "      <th>Cleaned_Complaint_text</th>\n",
       "      <th>text_len</th>\n",
       "      <th>Noisy_Complaint_Text</th>\n",
       "      <th>punctuation_percent</th>\n",
       "    </tr>\n",
       "  </thead>\n",
       "  <tbody>\n",
       "    <tr>\n",
       "      <th>0</th>\n",
       "      <td>[support, team, ignored, issue]</td>\n",
       "      <td>26</td>\n",
       "      <td>[support, team, ignored, issue]</td>\n",
       "      <td>3.846</td>\n",
       "    </tr>\n",
       "    <tr>\n",
       "      <th>1</th>\n",
       "      <td>[wrong, address, printed]</td>\n",
       "      <td>20</td>\n",
       "      <td>[wrong, address, printed]</td>\n",
       "      <td>5.000</td>\n",
       "    </tr>\n",
       "    <tr>\n",
       "      <th>2</th>\n",
       "      <td>[delivery, attempt, made]</td>\n",
       "      <td>26</td>\n",
       "      <td>[delivery, attempt, made]</td>\n",
       "      <td>3.846</td>\n",
       "    </tr>\n",
       "    <tr>\n",
       "      <th>3</th>\n",
       "      <td>[app, crash, booking]</td>\n",
       "      <td>24</td>\n",
       "      <td>[app, craeh, booking]</td>\n",
       "      <td>4.167</td>\n",
       "    </tr>\n",
       "    <tr>\n",
       "      <th>4</th>\n",
       "      <td>[repeated, failed, delivery, attempt, without,...</td>\n",
       "      <td>50</td>\n",
       "      <td>[repeated, failed, delivery, attempt, without,...</td>\n",
       "      <td>2.000</td>\n",
       "    </tr>\n",
       "    <tr>\n",
       "      <th>...</th>\n",
       "      <td>...</td>\n",
       "      <td>...</td>\n",
       "      <td>...</td>\n",
       "      <td>...</td>\n",
       "    </tr>\n",
       "    <tr>\n",
       "      <th>3495</th>\n",
       "      <td>[dtdc, team, never, picked, parcel, scheduled]</td>\n",
       "      <td>42</td>\n",
       "      <td>[dtdc, team, never, picked, parcel, scheduled]</td>\n",
       "      <td>2.381</td>\n",
       "    </tr>\n",
       "    <tr>\n",
       "      <th>3496</th>\n",
       "      <td>[tracking, show, delivered, haven’t, received]</td>\n",
       "      <td>45</td>\n",
       "      <td>[tracking, show, delivered, haven’t, received]</td>\n",
       "      <td>4.444</td>\n",
       "    </tr>\n",
       "    <tr>\n",
       "      <th>3497</th>\n",
       "      <td>[one, know, item]</td>\n",
       "      <td>24</td>\n",
       "      <td>[one, know, item]</td>\n",
       "      <td>4.167</td>\n",
       "    </tr>\n",
       "    <tr>\n",
       "      <th>3498</th>\n",
       "      <td>[incorrect, invoice, amount]</td>\n",
       "      <td>23</td>\n",
       "      <td>[incorrect, invoice, amount]</td>\n",
       "      <td>4.348</td>\n",
       "    </tr>\n",
       "    <tr>\n",
       "      <th>3499</th>\n",
       "      <td>[courier, marked, delivered, didn’t, get]</td>\n",
       "      <td>38</td>\n",
       "      <td>[courier, marked, delivered, didn’t, get]</td>\n",
       "      <td>2.632</td>\n",
       "    </tr>\n",
       "  </tbody>\n",
       "</table>\n",
       "<p>3500 rows × 4 columns</p>\n",
       "</div>"
      ],
      "text/plain": [
       "                                 Cleaned_Complaint_text  text_len  \\\n",
       "0                       [support, team, ignored, issue]        26   \n",
       "1                             [wrong, address, printed]        20   \n",
       "2                             [delivery, attempt, made]        26   \n",
       "3                                 [app, crash, booking]        24   \n",
       "4     [repeated, failed, delivery, attempt, without,...        50   \n",
       "...                                                 ...       ...   \n",
       "3495     [dtdc, team, never, picked, parcel, scheduled]        42   \n",
       "3496     [tracking, show, delivered, haven’t, received]        45   \n",
       "3497                                  [one, know, item]        24   \n",
       "3498                       [incorrect, invoice, amount]        23   \n",
       "3499          [courier, marked, delivered, didn’t, get]        38   \n",
       "\n",
       "                                   Noisy_Complaint_Text  punctuation_percent  \n",
       "0                       [support, team, ignored, issue]                3.846  \n",
       "1                             [wrong, address, printed]                5.000  \n",
       "2                             [delivery, attempt, made]                3.846  \n",
       "3                                 [app, craeh, booking]                4.167  \n",
       "4     [repeated, failed, delivery, attempt, without,...                2.000  \n",
       "...                                                 ...                  ...  \n",
       "3495     [dtdc, team, never, picked, parcel, scheduled]                2.381  \n",
       "3496     [tracking, show, delivered, haven’t, received]                4.444  \n",
       "3497                                  [one, know, item]                4.167  \n",
       "3498                       [incorrect, invoice, amount]                4.348  \n",
       "3499          [courier, marked, delivered, didn’t, get]                2.632  \n",
       "\n",
       "[3500 rows x 4 columns]"
      ]
     },
     "execution_count": 17,
     "metadata": {},
     "output_type": "execute_result"
    }
   ],
   "source": [
    "data[['Cleaned_Complaint_text', 'text_len', 'Noisy_Complaint_Text', 'punctuation_percent']]"
   ]
  },
  {
   "cell_type": "code",
   "execution_count": 18,
   "id": "059793de",
   "metadata": {},
   "outputs": [
    {
     "data": {
      "text/plain": [
       "['support', 'team', 'ignored', 'issue']"
      ]
     },
     "execution_count": 18,
     "metadata": {},
     "output_type": "execute_result"
    }
   ],
   "source": [
    "data['Cleaned_Complaint_text'][0]"
   ]
  },
  {
   "cell_type": "code",
   "execution_count": 19,
   "id": "12913388",
   "metadata": {},
   "outputs": [
    {
     "data": {
      "text/plain": [
       "'Support team ignored my issue.'"
      ]
     },
     "execution_count": 19,
     "metadata": {},
     "output_type": "execute_result"
    }
   ],
   "source": [
    "data['Complaint Text'][0]"
   ]
  },
  {
   "cell_type": "code",
   "execution_count": null,
   "id": "6b58f662",
   "metadata": {},
   "outputs": [],
   "source": [
    "# I used the word2vec to get the embeddings of the words in sentences\n",
    "SEED = 42\n",
    "random.seed(SEED)\n",
    "np.random.seed(SEED)\n",
    "torch.manual_seed(SEED)\n",
    "sentences = data['Noisy_Complaint_Text']\n",
    "w2v_model = Word2Vec(sentences,\n",
    "                     vector_size=100, \n",
    "                     window=5, \n",
    "                     min_count=1, \n",
    "                     sg=1, \n",
    "                     seed=SEED, \n",
    "                     workers=1, \n",
    "                     epochs=10, \n",
    "                     sorted_vocab=True)"
   ]
  },
  {
   "cell_type": "code",
   "execution_count": null,
   "id": "7f0f7d1f",
   "metadata": {},
   "outputs": [
    {
     "name": "stdout",
     "output_type": "stream",
     "text": [
      "[-0.13211599  0.12182502 -0.0122977  -0.09803324 -0.4417625   0.03205356\n",
      "  0.26176235  0.15781341 -0.40905967  0.35100776 -0.27051407 -0.04222998\n",
      "  0.03172775  0.4141328  -0.20772408 -0.1490182  -0.010878   -0.1729818\n",
      " -0.29598233  0.1162228   0.15291026  0.13240549  0.24334155  0.01203908\n",
      "  0.22784552 -0.14239866 -0.26777703  0.07573591  0.05711015 -0.4466444\n",
      "  0.22591081 -0.2230867   0.26363158  0.2686042  -0.08258406  0.10372511\n",
      " -0.11284307 -0.6113268   0.43200865  0.12419911  0.05304056 -0.1323073\n",
      " -0.10209531  0.11603491  0.22259611  0.18842039  0.0881746   0.00221411\n",
      "  0.02034585 -0.13050325 -0.13479033 -0.45517096  0.19360882  0.13689038\n",
      "  0.18522793  0.05405187  0.1562037   0.09090196  0.05444345  0.04239547\n",
      " -0.35209522  0.08881672 -0.16919492  0.06074291  0.46934348  0.11243263\n",
      "  0.17508176 -0.0732392  -0.01414083  0.0750332  -0.0830945  -0.13593878\n",
      " -0.24869168  0.15384081 -0.16844763  0.11525465 -0.3476928   0.13898945\n",
      "  0.13624999 -0.03647316 -0.11056267 -0.01655063  0.13300519  0.03898147\n",
      " -0.09833868  0.26286045 -0.00208626 -0.6526134  -0.0523744  -0.1997647\n",
      " -0.35220462  0.62072104  0.03149929 -0.2273982  -0.07921391  0.020713\n",
      " -0.15439636  0.14888573 -0.30021846 -0.03203725]\n"
     ]
    }
   ],
   "source": [
    "# This is the embedding of the consignment word\n",
    "print(w2v_model.wv['consignment'])"
   ]
  },
  {
   "cell_type": "code",
   "execution_count": null,
   "id": "161f83fa",
   "metadata": {},
   "outputs": [],
   "source": [
    "# Here I considered padding so that all embeddings have same length\n",
    "embedding_dim = 100\n",
    "max_len = 10\n",
    "\n",
    "def get_embedding_matrix(sentences, model, max_len):\n",
    "    data = []\n",
    "    for sent in sentences:\n",
    "        vecs = []\n",
    "        for word in sent:\n",
    "            if word in model.wv:\n",
    "                vecs.append(torch.tensor(model.wv[word]))\n",
    "        if len(vecs) < max_len:\n",
    "            pad_len = max_len - len(vecs)\n",
    "            vecs.extend([torch.zeros(embedding_dim)] * pad_len)\n",
    "        else:\n",
    "            vecs = vecs[:max_len]\n",
    "        data.append(torch.stack(vecs))\n",
    "    return torch.stack(data)"
   ]
  },
  {
   "cell_type": "markdown",
   "id": "29f92a90",
   "metadata": {},
   "source": [
    "#### Feed Farword Network"
   ]
  },
  {
   "cell_type": "code",
   "execution_count": null,
   "id": "642fadb0",
   "metadata": {},
   "outputs": [
    {
     "name": "stdout",
     "output_type": "stream",
     "text": [
      "torch.Size([3500, 10, 100])\n"
     ]
    }
   ],
   "source": [
    "# Here I took the variable X and stored the padded embeddings\n",
    "X = get_embedding_matrix(sentences, w2v_model, max_len)\n",
    "print(X.shape)"
   ]
  },
  {
   "cell_type": "code",
   "execution_count": null,
   "id": "406254a0",
   "metadata": {},
   "outputs": [
    {
     "data": {
      "text/plain": [
       "torch.Size([3500, 1000])"
      ]
     },
     "execution_count": 24,
     "metadata": {},
     "output_type": "execute_result"
    }
   ],
   "source": [
    "# Since the normal feed forward network cant analyze the \n",
    "X = X.view(X.size(0), -1)\n",
    "X.shape"
   ]
  },
  {
   "cell_type": "code",
   "execution_count": 25,
   "id": "d17fee49",
   "metadata": {},
   "outputs": [],
   "source": [
    "encoder = LabelEncoder()\n",
    "def add_label_noise(labels, noise_rate=0.1):\n",
    "    labels = labels.copy()\n",
    "    unique_labels = labels.unique()\n",
    "    for i in range(len(labels)):\n",
    "        if random.random() < noise_rate:\n",
    "            labels.iloc[i] = random.choice(unique_labels)\n",
    "    return labels\n",
    "data['Noisy_Category'] = add_label_noise(data['Category'], noise_rate=0.1)\n",
    "y=encoder.fit_transform(data['Noisy_Category'])"
   ]
  },
  {
   "cell_type": "code",
   "execution_count": 26,
   "id": "a5442910",
   "metadata": {},
   "outputs": [],
   "source": [
    "scaler = StandardScaler()\n",
    "scaled_features = scaler.fit_transform(data[['text_len', 'punctuation_percent']])\n",
    "X_scalar = torch.tensor(scaled_features, dtype=torch.float32)"
   ]
  },
  {
   "cell_type": "code",
   "execution_count": 27,
   "id": "cb361b1e",
   "metadata": {},
   "outputs": [],
   "source": [
    "X_ffnn = torch.cat([X, X_scalar], dim=1)\n",
    "y_ffnn = y"
   ]
  },
  {
   "cell_type": "code",
   "execution_count": 28,
   "id": "698cd4ee",
   "metadata": {},
   "outputs": [
    {
     "data": {
      "text/plain": [
       "torch.Size([3500, 1002])"
      ]
     },
     "execution_count": 28,
     "metadata": {},
     "output_type": "execute_result"
    }
   ],
   "source": [
    "X_ffnn.shape"
   ]
  },
  {
   "cell_type": "code",
   "execution_count": 29,
   "id": "7f615093",
   "metadata": {},
   "outputs": [],
   "source": [
    "X_ffnn_train, X_ffnn_val, y_ffnn_train, y_ffnn_val = train_test_split(\n",
    "    X_ffnn, y_ffnn, test_size=0.2, random_state=42\n",
    ")"
   ]
  },
  {
   "cell_type": "code",
   "execution_count": 30,
   "id": "9a562dac",
   "metadata": {},
   "outputs": [],
   "source": [
    "class ComplaintDataset(Dataset):\n",
    "    def __init__(self, X, y):\n",
    "        self.X = X\n",
    "        self.y = y\n",
    "    def __len__(self):\n",
    "        return len(self.X)\n",
    "    def __getitem__(self, idx):\n",
    "        return self.X[idx], self.y[idx]\n",
    "\n",
    "train_ds_ffnn = ComplaintDataset(X_ffnn_train, torch.tensor(y_ffnn_train, dtype=torch.long))\n",
    "val_ds_ffnn = ComplaintDataset(X_ffnn_val, torch.tensor(y_ffnn_val, dtype=torch.long))"
   ]
  },
  {
   "cell_type": "code",
   "execution_count": 31,
   "id": "038e5918",
   "metadata": {},
   "outputs": [],
   "source": [
    "train_loader_ffnn = DataLoader(train_ds_ffnn, batch_size=32, shuffle=True)\n",
    "val_loader_ffnn = DataLoader(val_ds_ffnn, batch_size=32)"
   ]
  },
  {
   "cell_type": "code",
   "execution_count": 32,
   "id": "0dc32f62",
   "metadata": {},
   "outputs": [],
   "source": [
    "class FeedForwardNet(nn.Module):\n",
    "    def __init__(self, input_dim, output_dim):\n",
    "        super(FeedForwardNet, self).__init__()\n",
    "        self.output_layer = nn.Linear(input_dim, output_dim)\n",
    "    def forward(self, x):\n",
    "        return self.output_layer(x)"
   ]
  },
  {
   "cell_type": "code",
   "execution_count": 33,
   "id": "6e474299",
   "metadata": {},
   "outputs": [],
   "source": [
    "model_ffnn = FeedForwardNet(input_dim=X_ffnn.shape[1], output_dim=len(set(y_ffnn)))"
   ]
  },
  {
   "cell_type": "code",
   "execution_count": 34,
   "id": "996fcfc8",
   "metadata": {},
   "outputs": [],
   "source": [
    "criterion = nn.CrossEntropyLoss()\n",
    "optimizer = torch.optim.Adam(model_ffnn.parameters(), lr=1e-3, weight_decay=1e-4)\n",
    "scheduler = torch.optim.lr_scheduler.ReduceLROnPlateau(optimizer,\n",
    "                                                       mode='min',\n",
    "                                                       factor=0.5,\n",
    "                                                       patience=2,)"
   ]
  },
  {
   "cell_type": "code",
   "execution_count": 35,
   "id": "b976d2b6",
   "metadata": {},
   "outputs": [
    {
     "name": "stdout",
     "output_type": "stream",
     "text": [
      "Epoch 1 | Train Loss: 1.8017 | Val Loss: 1.3887\n",
      "Epoch 2 | Train Loss: 1.2447 | Val Loss: 1.0616\n",
      "Epoch 3 | Train Loss: 1.0150 | Val Loss: 0.9202\n",
      "Epoch 4 | Train Loss: 0.8957 | Val Loss: 0.8361\n",
      "Epoch 5 | Train Loss: 0.8200 | Val Loss: 0.7890\n",
      "Epoch 6 | Train Loss: 0.7693 | Val Loss: 0.7575\n",
      "Epoch 7 | Train Loss: 0.7302 | Val Loss: 0.7314\n",
      "Epoch 8 | Train Loss: 0.7000 | Val Loss: 0.7137\n",
      "Epoch 9 | Train Loss: 0.6740 | Val Loss: 0.7036\n",
      "Epoch 10 | Train Loss: 0.6598 | Val Loss: 0.6928\n"
     ]
    }
   ],
   "source": [
    "train_losses = []\n",
    "val_losses = []\n",
    "\n",
    "for epoch in range(10):\n",
    "    # Training phase\n",
    "    model_ffnn.train()\n",
    "    running_loss = 0.0\n",
    "    train_preds_all = []\n",
    "    train_labels_all = []\n",
    "    \n",
    "    for batch_X, batch_y in train_loader_ffnn:\n",
    "        preds = model_ffnn(batch_X)\n",
    "        loss = criterion(preds, batch_y)\n",
    "\n",
    "        optimizer.zero_grad()\n",
    "        loss.backward()\n",
    "        optimizer.step()\n",
    "        running_loss += loss.item()\n",
    "        train_preds_all.extend(torch.argmax(preds, dim=1).cpu().numpy())\n",
    "        train_labels_all.extend(batch_y.cpu().numpy())\n",
    "\n",
    "    avg_train_loss = running_loss / len(train_loader_ffnn)\n",
    "    model_ffnn.eval()\n",
    "    val_loss = 0.0\n",
    "    val_preds_all = []\n",
    "    val_labels_all = []\n",
    "    \n",
    "    with torch.no_grad():\n",
    "        for batch_X, batch_y in val_loader_ffnn:\n",
    "            preds = model_ffnn(batch_X)\n",
    "            loss = criterion(preds, batch_y)\n",
    "            val_loss += loss.item()\n",
    "            val_preds_all.extend(torch.argmax(preds, dim=1).cpu().numpy())\n",
    "            val_labels_all.extend(batch_y.cpu().numpy())\n",
    "    \n",
    "    avg_val_loss = val_loss / len(val_loader_ffnn)\n",
    "    train_losses.append(avg_train_loss)\n",
    "    val_losses.append(avg_val_loss)\n",
    "    \n",
    "    print(f\"Epoch {epoch+1} | Train Loss: {avg_train_loss:.4f} | Val Loss: {avg_val_loss:.4f}\")\n"
   ]
  },
  {
   "cell_type": "code",
   "execution_count": 36,
   "id": "93a06d25",
   "metadata": {},
   "outputs": [],
   "source": [
    "model_ffnn.eval()\n",
    "with torch.no_grad():\n",
    "    preds = model_ffnn(X_ffnn_val)\n",
    "    predicted_labels = torch.argmax(preds, dim=1)\n"
   ]
  },
  {
   "cell_type": "code",
   "execution_count": 54,
   "id": "f78b2d0b",
   "metadata": {},
   "outputs": [
    {
     "name": "stdout",
     "output_type": "stream",
     "text": [
      "Accuracy: 0.89\n"
     ]
    }
   ],
   "source": [
    "y_true = y_ffnn_val\n",
    "y_pred = predicted_labels.numpy()\n",
    "\n",
    "print(\"Accuracy:\", round(accuracy_score(y_true, y_pred), 2))"
   ]
  },
  {
   "cell_type": "code",
   "execution_count": 55,
   "id": "023e154b",
   "metadata": {},
   "outputs": [
    {
     "name": "stdout",
     "output_type": "stream",
     "text": [
      "Classification Report:\n",
      "\n",
      "              precision    recall  f1-score   support\n",
      "\n",
      "           0       0.94      0.93      0.94        72\n",
      "           1       0.89      0.85      0.87        68\n",
      "           2       0.86      0.85      0.85        66\n",
      "           3       0.94      0.90      0.92        71\n",
      "           4       0.87      0.85      0.86        71\n",
      "           5       0.80      0.91      0.85        67\n",
      "           6       0.96      0.92      0.94        92\n",
      "           7       0.88      0.87      0.87        68\n",
      "           8       0.86      0.94      0.90        65\n",
      "           9       0.88      0.87      0.87        60\n",
      "\n",
      "    accuracy                           0.89       700\n",
      "   macro avg       0.89      0.89      0.89       700\n",
      "weighted avg       0.89      0.89      0.89       700\n",
      "\n",
      "--------------------------------------------------------------------------------------------------------------\n",
      "Confusion Matrix\n",
      "\n",
      "[[67  0  0  1  2  1  0  1  0  0]\n",
      " [ 0 58  2  2  3  2  0  0  1  0]\n",
      " [ 1  1 56  0  0  2  0  0  2  4]\n",
      " [ 0  2  0 64  1  1  1  1  1  0]\n",
      " [ 0  1  2  0 60  2  1  2  3  0]\n",
      " [ 1  0  1  0  0 61  0  2  2  0]\n",
      " [ 1  2  1  0  0  1 85  1  0  1]\n",
      " [ 1  1  0  0  2  4  0 59  0  1]\n",
      " [ 0  0  1  1  0  0  0  1 61  1]\n",
      " [ 0  0  2  0  1  2  2  0  1 52]]\n"
     ]
    }
   ],
   "source": [
    "print(\"Classification Report:\\n\")\n",
    "print(classification_report(y_true, y_pred))\n",
    "print(\"-\"*110)\n",
    "print(\"Confusion Matrix\\n\")\n",
    "print(confusion_matrix(y_true, y_pred))"
   ]
  },
  {
   "cell_type": "code",
   "execution_count": 94,
   "id": "e587f7dc",
   "metadata": {},
   "outputs": [],
   "source": [
    "with open('model_ffnn.pkl', 'wb') as f:\n",
    "    pickle.dump(model_ffnn.state_dict(), f)"
   ]
  },
  {
   "cell_type": "code",
   "execution_count": 38,
   "id": "37a16010",
   "metadata": {},
   "outputs": [
    {
     "data": {
      "text/plain": [
       "Complaint Text\n",
       "Payment went through but no confirmation.                       61\n",
       "Support didn’t help at all.                                     61\n",
       "Incorrect invoice amount.                                       60\n",
       "No one came for pickup.                                         60\n",
       "Delivery attempt was not made.                                  59\n",
       "                                                                ..\n",
       "The package arrived crushed and the contents were broken.        1\n",
       "shipment was received to the misplaced address.                  1\n",
       "My DTDC parcel was not handed over on time as promised.          1\n",
       "item was delivered to the wrong address.                         1\n",
       "DTDC package was arrived but some items were missing inside.     1\n",
       "Name: count, Length: 159, dtype: int64"
      ]
     },
     "execution_count": 38,
     "metadata": {},
     "output_type": "execute_result"
    }
   ],
   "source": [
    "data['Complaint Text'].value_counts()"
   ]
  },
  {
   "cell_type": "code",
   "execution_count": 74,
   "id": "ccd4bdc9",
   "metadata": {},
   "outputs": [
    {
     "data": {
      "image/png": "[encoded data removed]",
      "text/plain": [
       "<Figure size 1200x800 with 1 Axes>"
      ]
     },
     "metadata": {},
     "output_type": "display_data"
    }
   ],
   "source": [
    "plt.figure(figsize=(12, 8))\n",
    "plt.subplot(2, 1, 1)\n",
    "epochs = range(1, len(train_losses) + 1)\n",
    "plt.plot(epochs, train_losses, 'b-o', label='Training Loss', linewidth=2, markersize=6)\n",
    "plt.plot(epochs, val_losses, 'r-s', label='Validation Loss', linewidth=2, markersize=6)\n",
    "plt.title('Training vs Validation Loss', fontweight='bold')\n",
    "plt.xlabel('Epochs')\n",
    "plt.ylabel('Loss')\n",
    "plt.legend()\n",
    "plt.grid(True, alpha=0.3)\n",
    "\n",
    "plt.tight_layout()\n",
    "plt.suptitle('Feedforward Neural Network Training Metrics', fontweight='bold', y=1.02)\n",
    "plt.show()\n"
   ]
  },
  {
   "cell_type": "markdown",
   "id": "7d15897d",
   "metadata": {},
   "source": [
    "#### Long-Short term memory"
   ]
  },
  {
   "cell_type": "code",
   "execution_count": 40,
   "id": "778b052b",
   "metadata": {},
   "outputs": [
    {
     "name": "stdout",
     "output_type": "stream",
     "text": [
      "torch.Size([3500, 10, 100])\n"
     ]
    }
   ],
   "source": [
    "x_lstm = get_embedding_matrix(sentences, w2v_model, max_len)\n",
    "print(x_lstm.shape)"
   ]
  },
  {
   "cell_type": "code",
   "execution_count": 41,
   "id": "d6d561ff",
   "metadata": {},
   "outputs": [],
   "source": [
    "y_lstm = torch.tensor(y, dtype=torch.long)"
   ]
  },
  {
   "cell_type": "code",
   "execution_count": 42,
   "id": "220221f6",
   "metadata": {},
   "outputs": [],
   "source": [
    "x_lstm_train, x_lstm_val, y_lstm_train, y_lstm_val = train_test_split(\n",
    "    x_lstm, y_lstm, test_size=0.2, random_state=42\n",
    ")"
   ]
  },
  {
   "cell_type": "code",
   "execution_count": 43,
   "id": "e5709e58",
   "metadata": {},
   "outputs": [],
   "source": [
    "class ComplaintDataset(Dataset):\n",
    "    def __init__(self, X, y):\n",
    "        self.X = X\n",
    "        self.y = y\n",
    "    def __len__(self):\n",
    "        return len(self.X)\n",
    "    def __getitem__(self, idx):\n",
    "        return self.X[idx], self.y[idx]\n",
    "\n",
    "train_ds_lstm = ComplaintDataset(x_lstm_train, y_lstm_train)\n",
    "val_ds_lstm = ComplaintDataset(x_lstm_val, y_lstm_val)\n",
    "\n",
    "train_loader_lstm = DataLoader(train_ds_lstm, batch_size=32, shuffle=True)\n",
    "val_loader_lstm = DataLoader(val_ds_lstm, batch_size=32)\n"
   ]
  },
  {
   "cell_type": "code",
   "execution_count": 44,
   "id": "e15029a3",
   "metadata": {},
   "outputs": [],
   "source": [
    "class LSTMClassifier(nn.Module):\n",
    "    def __init__(self, input_dim, hidden_dim, output_dim, dropout=0.5, num_layers=2):\n",
    "        super().__init__()\n",
    "        self.lstm = nn.LSTM(input_size=input_dim, hidden_size=hidden_dim,\n",
    "                            num_layers=num_layers, dropout=dropout, batch_first=True)\n",
    "        self.dropout = nn.Dropout(dropout)\n",
    "        self.fc = nn.Linear(hidden_dim, output_dim)\n",
    "\n",
    "    def forward(self, x):\n",
    "        _, (hidden, _) = self.lstm(x)\n",
    "        out = self.dropout(hidden[-1])\n",
    "        return self.fc(out)"
   ]
  },
  {
   "cell_type": "code",
   "execution_count": 45,
   "id": "d3f4dbce",
   "metadata": {},
   "outputs": [],
   "source": [
    "model_lstm = LSTMClassifier(input_dim=x_lstm.shape[2], hidden_dim=128, output_dim=len(torch.unique(y_lstm)))"
   ]
  },
  {
   "cell_type": "code",
   "execution_count": 46,
   "id": "75fe6b18",
   "metadata": {},
   "outputs": [],
   "source": [
    "class_weights = compute_class_weight(class_weight='balanced', classes=np.unique(y), y=y)\n",
    "class_weights = torch.tensor(class_weights, dtype=torch.float32)"
   ]
  },
  {
   "cell_type": "code",
   "execution_count": 47,
   "id": "b1c41878",
   "metadata": {},
   "outputs": [],
   "source": [
    "criterion = nn.CrossEntropyLoss(weight=class_weights)\n",
    "optimizer = torch.optim.Adam(model_lstm.parameters(), lr=1e-3)"
   ]
  },
  {
   "cell_type": "code",
   "execution_count": 48,
   "id": "8e119d07",
   "metadata": {},
   "outputs": [
    {
     "name": "stdout",
     "output_type": "stream",
     "text": [
      "Epoch 1 | Train Loss: 1.9546 | Val Loss: 1.3993\n",
      "Epoch 2 | Train Loss: 1.2782 | Val Loss: 0.9950\n",
      "Epoch 3 | Train Loss: 0.9220 | Val Loss: 0.7799\n",
      "Epoch 4 | Train Loss: 0.7871 | Val Loss: 0.7140\n",
      "Epoch 5 | Train Loss: 0.6977 | Val Loss: 0.6718\n",
      "Epoch 6 | Train Loss: 0.6857 | Val Loss: 0.6740\n",
      "Epoch 7 | Train Loss: 0.6563 | Val Loss: 0.7555\n",
      "Epoch 8 | Train Loss: 0.6418 | Val Loss: 0.6380\n",
      "Epoch 9 | Train Loss: 0.6173 | Val Loss: 0.6301\n",
      "Epoch 10 | Train Loss: 0.5934 | Val Loss: 0.6413\n"
     ]
    }
   ],
   "source": [
    "device = torch.device(\"cuda\" if torch.cuda.is_available() else \"cpu\")\n",
    "\n",
    "# === Instantiate Model ===\n",
    "lstm_model_exp = LSTMClassifier(\n",
    "    input_dim=x_lstm.shape[2],\n",
    "    hidden_dim=128,\n",
    "    output_dim=len(torch.unique(y_lstm))\n",
    ")\n",
    "lstm_model_exp.to(device)\n",
    "\n",
    "# === Loss and Optimizer (No Class Weights) ===\n",
    "loss_fn_lstm = nn.CrossEntropyLoss()\n",
    "optimizer_lstm = torch.optim.Adam(lstm_model_exp.parameters(), lr=1e-3)\n",
    "\n",
    "# === Training Setup ===\n",
    "num_epochs_lstm = 10\n",
    "lstm_train_loss_list = []\n",
    "lstm_val_loss_list = []\n",
    "lowest_val_loss = float('inf')\n",
    "\n",
    "for ep in range(num_epochs_lstm):\n",
    "    # --- Training Phase ---\n",
    "    lstm_model_exp.train()\n",
    "    total_train_loss = 0.0\n",
    "    all_train_preds = []\n",
    "    all_train_labels = []\n",
    "\n",
    "    for xb, yb in train_loader_lstm:\n",
    "        xb, yb = xb.to(device).float(), yb.to(device)\n",
    "\n",
    "        optimizer_lstm.zero_grad()\n",
    "        logits = lstm_model_exp(xb)\n",
    "        loss = loss_fn_lstm(logits, yb)\n",
    "        loss.backward()\n",
    "        optimizer_lstm.step()\n",
    "\n",
    "        total_train_loss += loss.item()\n",
    "        all_train_preds.extend(torch.argmax(logits, dim=1).cpu().numpy())\n",
    "        all_train_labels.extend(yb.cpu().numpy())\n",
    "\n",
    "    avg_lstm_train_loss = total_train_loss / len(train_loader_lstm)\n",
    "    lstm_train_loss_list.append(avg_lstm_train_loss)\n",
    "\n",
    "    # --- Validation Phase ---\n",
    "    lstm_model_exp.eval()\n",
    "    total_val_loss = 0.0\n",
    "    all_val_preds = []\n",
    "    all_val_labels = []\n",
    "\n",
    "    with torch.no_grad():\n",
    "        for xb, yb in val_loader_lstm:\n",
    "            xb, yb = xb.to(device).float(), yb.to(device)\n",
    "            logits = lstm_model_exp(xb)\n",
    "            loss = loss_fn_lstm(logits, yb)\n",
    "            total_val_loss += loss.item()\n",
    "\n",
    "            all_val_preds.extend(torch.argmax(logits, dim=1).cpu().numpy())\n",
    "            all_val_labels.extend(yb.cpu().numpy())\n",
    "\n",
    "    avg_lstm_val_loss = total_val_loss / len(val_loader_lstm)\n",
    "    lstm_val_loss_list.append(avg_lstm_val_loss)\n",
    "\n",
    "    print(f\"Epoch {ep+1} | Train Loss: {avg_lstm_train_loss:.4f} | Val Loss: {avg_lstm_val_loss:.4f}\")\n",
    "\n",
    "    # Save best model\n",
    "    if avg_lstm_val_loss < lowest_val_loss:\n",
    "        lowest_val_loss = avg_lstm_val_loss\n",
    "        torch.save(lstm_model_exp.state_dict(), \"best_lstm_model.pth\")"
   ]
  },
  {
   "cell_type": "code",
   "execution_count": 73,
   "id": "22dc4f6f",
   "metadata": {},
   "outputs": [
    {
     "data": {
      "image/png": "[encoded data removed]",
      "text/plain": [
       "<Figure size 1200x800 with 1 Axes>"
      ]
     },
     "metadata": {},
     "output_type": "display_data"
    }
   ],
   "source": [
    "plt.figure(figsize=(12, 8))\n",
    "plt.subplot(2, 1, 1)\n",
    "\n",
    "epochs_range = range(1, len(lstm_train_loss_list) + 1)\n",
    "plt.plot(epochs_range, lstm_train_loss_list, 'b-o', label='Training Loss', linewidth=2, markersize=6)\n",
    "plt.plot(epochs_range, lstm_val_loss_list, 'r-s', label='Validation Loss', linewidth=2, markersize=6)\n",
    "\n",
    "plt.title('Training vs Validation Loss', fontweight='bold', x=0.5)\n",
    "plt.xlabel('Epochs')\n",
    "plt.ylabel('Loss')\n",
    "plt.legend()\n",
    "plt.grid(True, alpha=0.3)\n",
    "\n",
    "plt.tight_layout()\n",
    "plt.suptitle('LSTM Model Training Metrics', fontweight='bold', x=0.52, y=1.02)\n",
    "plt.show()"
   ]
  },
  {
   "cell_type": "code",
   "execution_count": 56,
   "id": "349560c9",
   "metadata": {},
   "outputs": [],
   "source": [
    "model_lstm.load_state_dict(torch.load(\"best_lstm_model.pth\"))\n",
    "model_lstm.eval()\n",
    "\n",
    "preds, labels = [], []\n",
    "with torch.no_grad():\n",
    "    for X, y in val_loader_lstm:\n",
    "        X, y = X.to(device).float(), y.to(device)\n",
    "        out = model_lstm(X)\n",
    "        preds += torch.argmax(out, 1).cpu().tolist()\n",
    "        labels += y.cpu().tolist()\n"
   ]
  },
  {
   "cell_type": "code",
   "execution_count": 57,
   "id": "120052c3",
   "metadata": {},
   "outputs": [
    {
     "name": "stdout",
     "output_type": "stream",
     "text": [
      "Accuracy: 0.88\n"
     ]
    }
   ],
   "source": [
    "print(\"Accuracy:\", round(accuracy_score(labels, preds), 2))"
   ]
  },
  {
   "cell_type": "code",
   "execution_count": 58,
   "id": "80bd6857",
   "metadata": {},
   "outputs": [
    {
     "name": "stdout",
     "output_type": "stream",
     "text": [
      "                       precision    recall  f1-score   support\n",
      "\n",
      "        Booking Issue       0.96      0.89      0.92        72\n",
      "     Customer Service       0.85      0.85      0.85        68\n",
      "       Damaged Parcel       0.89      0.85      0.87        66\n",
      "       Delivery Delay       0.90      0.90      0.90        71\n",
      "      Failed Delivery       0.86      0.85      0.85        71\n",
      "     Misplaced Parcel       0.79      0.87      0.83        67\n",
      "         Overcharging       0.96      0.92      0.94        92\n",
      "Service Quality Issue       0.88      0.84      0.86        68\n",
      "       Tracking Issue       0.81      0.94      0.87        65\n",
      "       Wrong Delivery       0.86      0.85      0.86        60\n",
      "\n",
      "             accuracy                           0.88       700\n",
      "            macro avg       0.88      0.88      0.87       700\n",
      "         weighted avg       0.88      0.88      0.88       700\n",
      "\n",
      "--------------------------------------------------------------------------------------------------------------\n",
      "Confusion Matrix\n",
      "[[64  0  0  3  3  1  0  1  0  0]\n",
      " [ 0 58  1  2  3  3  0  0  1  0]\n",
      " [ 1  1 56  0  0  2  0  0  2  4]\n",
      " [ 0  2  0 64  1  0  1  1  1  1]\n",
      " [ 0  0  2  0 60  3  1  2  3  0]\n",
      " [ 0  0  0  1  0 58  0  2  6  0]\n",
      " [ 1  2  1  0  0  1 85  1  0  1]\n",
      " [ 1  4  0  0  2  3  0 57  0  1]\n",
      " [ 0  0  1  1  0  0  0  1 61  1]\n",
      " [ 0  1  2  0  1  2  2  0  1 51]]\n"
     ]
    }
   ],
   "source": [
    "print(classification_report(labels, preds, target_names=encoder.classes_))\n",
    "print('-'*110)\n",
    "print(\"Confusion Matrix\")\n",
    "print(confusion_matrix(labels, preds))"
   ]
  },
  {
   "cell_type": "code",
   "execution_count": 95,
   "id": "561a685c",
   "metadata": {},
   "outputs": [],
   "source": [
    "with open('model_lstm.pkl', 'wb') as f:\n",
    "    pickle.dump(model_lstm.state_dict(), f)"
   ]
  },
  {
   "cell_type": "code",
   "execution_count": 99,
   "id": "18e8c1b7",
   "metadata": {},
   "outputs": [
    {
     "name": "stdout",
     "output_type": "stream",
     "text": [
      "Complaint: My parcel was marked as delivered, but I never received it.\n",
      "Predicted Category: Failed Delivery\n",
      "------------------------------------------------------------------------------------------------------------------------\n",
      "Complaint: The courier is stuck at the hub for over 5 days with no movement. The tracking hasn't updated since.\n",
      "Predicted Category: Tracking Issue\n",
      "------------------------------------------------------------------------------------------------------------------------\n",
      "Complaint: I paid for express delivery but it's been 4 days and the package still hasn't reached the destination.\n",
      "Predicted Category: Booking Issue\n",
      "------------------------------------------------------------------------------------------------------------------------\n",
      "Complaint: The delivery agent was rude and refused to deliver to my address, asking me to collect it from their office.\n",
      "Predicted Category: Service Quality Issue\n",
      "------------------------------------------------------------------------------------------------------------------------\n",
      "Complaint: Customer support hasn't replied to my emails in over 10 days!\n",
      "Predicted Category: Customer Service\n",
      "------------------------------------------------------------------------------------------------------------------------\n",
      "Complaint: DTDC executive was not wearing an ID card and did not provide proper receipt.\n",
      "Predicted Category: Service Quality Issue\n",
      "------------------------------------------------------------------------------------------------------------------------\n",
      "Complaint: My DTDC parcel was not delivered on time as promised.\n",
      "Predicted Category: Delivery Delay\n",
      "------------------------------------------------------------------------------------------------------------------------\n",
      "Complaint: DTDC website crashes while booking consignments.\n",
      "Predicted Category: Booking Issue\n",
      "------------------------------------------------------------------------------------------------------------------------\n",
      "Complaint: Tracking status showed delivered but I never received.\n",
      "Predicted Category: Failed Delivery\n",
      "------------------------------------------------------------------------------------------------------------------------\n",
      "Complaint: product issue\n",
      "Predicted Category: Damaged Parcel\n",
      "------------------------------------------------------------------------------------------------------------------------\n"
     ]
    }
   ],
   "source": [
    "def preprocess(text):\n",
    "    text = text.lower()\n",
    "    text = re.sub(r\"[^\\w\\s]\", \"\", text)\n",
    "    tokens = word_tokenize(text)\n",
    "    return tokens\n",
    "\n",
    "def sentence_to_ffnn_tensor(sentence, model,scaler, max_len=10, embed_dim=100):\n",
    "    tokens = word_tokenize(re.sub(r\"[^\\w\\s]\", \"\", sentence.lower()))\n",
    "    vecs = [torch.tensor(model.wv[w]) for w in tokens if w in model.wv][:max_len]\n",
    "    vecs += [torch.zeros(embed_dim)] * (max_len - len(vecs))\n",
    "    embed_part = torch.cat(vecs).unsqueeze(0)\n",
    "    text_len = len(sentence)\n",
    "    punct_pct = len(re.findall(r\"[^\\w\\s]\", sentence)) / text_len\n",
    "    feat_df   = pd.DataFrame([[text_len, punct_pct]],\n",
    "                             columns=['text_len', 'punctuation_percent'])\n",
    "    scalar_part = torch.tensor(scaler.transform(feat_df),\n",
    "                               dtype=torch.float32)    \n",
    "    return torch.cat([embed_part, scalar_part], dim=1)\n",
    "test_complaints = [\n",
    "    \"My parcel was marked as delivered, but I never received it.\",\n",
    "    \"The courier is stuck at the hub for over 5 days with no movement. The tracking hasn't updated since.\",\n",
    "    \"I paid for express delivery but it's been 4 days and the package still hasn't reached the destination.\",\n",
    "    \"The delivery agent was rude and refused to deliver to my address, asking me to collect it from their office.\",\n",
    "    \"Customer support hasn't replied to my emails in over 10 days!\",\n",
    "    \"DTDC executive was not wearing an ID card and did not provide proper receipt.\",\n",
    "    \"My DTDC parcel was not delivered on time as promised.\",\n",
    "    \"DTDC website crashes while booking consignments.\",\n",
    "    \"Tracking status showed delivered but I never received.\",\n",
    "    \"product issue\"\n",
    "]\n",
    "\n",
    "model_ffnn.eval()\n",
    "\n",
    "for complaint in test_complaints:\n",
    "    x_test = sentence_to_ffnn_tensor(complaint, w2v_model, scaler)  # ← pass scaler\n",
    "    with torch.no_grad():\n",
    "        pred_logits = model_ffnn(x_test)\n",
    "        pred_idx    = torch.argmax(pred_logits, dim=1).item()\n",
    "        label       = encoder.inverse_transform([pred_idx])[0]\n",
    "    print(f\"Complaint: {complaint}\")\n",
    "    print(f\"Predicted Category: {label}\")\n",
    "    print(\"-\"*120)\n"
   ]
  },
  {
   "cell_type": "code",
   "execution_count": null,
   "id": "ee40cb94",
   "metadata": {},
   "outputs": [],
   "source": []
  }
 ],
 "metadata": {
  "kernelspec": {
   "display_name": "base",
   "language": "python",
   "name": "python3"
  },
  "language_info": {
   "codemirror_mode": {
    "name": "ipython",
    "version": 3
   },
   "file_extension": ".py",
   "mimetype": "text/x-python",
   "name": "python",
   "nbconvert_exporter": "python",
   "pygments_lexer": "ipython3",
   "version": "3.12.7"
  }
 },
 "nbformat": 4,
 "nbformat_minor": 5
}
